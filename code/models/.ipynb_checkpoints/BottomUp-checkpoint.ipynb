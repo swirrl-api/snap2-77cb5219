{
 "cells": [
  {
   "cell_type": "markdown",
   "id": "cae6ff31-8d24-40ce-928d-09d3512aab6e",
   "metadata": {},
   "source": [
    "# CC 2003"
   ]
  },
  {
   "cell_type": "markdown",
   "id": "ee2bb52b-ea23-459c-bc09-2f6bb8eb802f",
   "metadata": {},
   "source": [
    "- model: l1, l2, rbf\n",
    "- n_bkps: ??\n",
    "- jump: ??\n",
    "- min_size: ??\n",
    "- custom_cost: ??\n",
    "- params: ??"
   ]
  },
  {
   "cell_type": "markdown",
   "id": "ffbbfd6d-b0cd-4942-b7d8-807b56407940",
   "metadata": {},
   "source": [
    "- shape: (n_samples, n_features) OR (n_samples,)"
   ]
  },
  {
   "cell_type": "code",
   "execution_count": 9,
   "id": "d0e2d300-e315-4846-a85b-1c03fdbc6a5d",
   "metadata": {},
   "outputs": [],
   "source": [
    "# load libraries\n",
    "import netCDF4 as nc\n",
    "import xarray as xr\n",
    "import glob\n",
    "import pandas as pd\n",
    "import os\n",
    "from itertools import zip_longest\n",
    "import numpy as np\n",
    "import seaborn as sns\n",
    "import cartopy.crs as ccrs\n",
    "import matplotlib.pyplot as plt\n",
    "import cartopy.feature as cf\n",
    "import ruptures as rpt\n",
    "from datetime import datetime"
   ]
  },
  {
   "cell_type": "code",
   "execution_count": 10,
   "id": "00454e00-8fd3-4bfd-ad8c-edc524b69d80",
   "metadata": {},
   "outputs": [],
   "source": [
    "data = nc.Dataset('cc_2003.nc')\n",
    "variable = data['CC']"
   ]
  },
  {
   "cell_type": "code",
   "execution_count": 11,
   "id": "4a2d6e76-6ecc-4fec-9a53-b03f6be57738",
   "metadata": {},
   "outputs": [],
   "source": [
    "# Flatten 3D array of Closeness Centrality into 1D array with shape (n_samples,)\n",
    "def flatten(data):\n",
    "    flat_data = []\n",
    "    for i in range(data.shape[2]):\n",
    "        for j in range(data.shape[1]):\n",
    "            for k in range(data.shape[0]):\n",
    "                flat_data.append(data[k][j][i])\n",
    "    return np.array(flat_data)\n",
    "\n",
    "# Get the 3D index of the change points\n",
    "def get_3d_index(arr, var_shape):\n",
    "    index = []\n",
    "    for i in range(len(arr)-1):\n",
    "        ind = np.unravel_index(arr[i], var_shape)\n",
    "        index.append(ind)\n",
    "    return index\n",
    "\n",
    "# Return the time, lat, and lon values related to the change points\n",
    "def get_coords(index, ds):\n",
    "    time = []\n",
    "    lat = []\n",
    "    lon = []\n",
    "    for i in range(len(index)):\n",
    "        t = ds['time'].values[index[i][0]]\n",
    "        t = t.astype('datetime64[D]').astype(str)\n",
    "        la = ds['lat'].values[index[i][1]]\n",
    "        lo = ds['lon'].values[index[i][2]]\n",
    "        time.append(t)\n",
    "        lat.append(la)\n",
    "        lon.append(lo)\n",
    "    return time, lat, lon"
   ]
  },
  {
   "cell_type": "code",
   "execution_count": 12,
   "id": "ede85f76-7278-48c3-b5ca-ae62ca0a804f",
   "metadata": {},
   "outputs": [],
   "source": [
    "input = flatten(np.array(variable))"
   ]
  },
  {
   "cell_type": "markdown",
   "id": "9d10b0b0-7ec4-4714-8091-19d45ffcb873",
   "metadata": {},
   "source": [
    "# Basic models"
   ]
  },
  {
   "cell_type": "markdown",
   "id": "b39a2973-33b7-49c7-a794-63dd5766cbd8",
   "metadata": {},
   "source": [
    "## L1"
   ]
  },
  {
   "cell_type": "code",
   "execution_count": 7,
   "id": "8212a17e-8c88-4e82-b511-08bd74a3dce9",
   "metadata": {},
   "outputs": [
    {
     "name": "stdout",
     "output_type": "stream",
     "text": [
      "[2011725, 2013460, 2025085, 2026855, 3589860]\n"
     ]
    }
   ],
   "source": [
    "bkps_l1 = rpt.BottomUp('l1').fit_predict(input, n_bkps=4)\n",
    "print(bkps_l1)"
   ]
  },
  {
   "cell_type": "code",
   "execution_count": null,
   "id": "151a270b-e3b6-4adf-a99a-2169ef5b7e19",
   "metadata": {},
   "outputs": [],
   "source": [
    "bkps_l1_v2 = rpt.BottomUp('l1', jump=2).fit_predict(input, n_bkps=4)\n",
    "print(bkps_l1_v2)"
   ]
  },
  {
   "cell_type": "markdown",
   "id": "02adcfa7-322c-480d-9558-8452cbc95c81",
   "metadata": {},
   "source": [
    "## L2"
   ]
  },
  {
   "cell_type": "code",
   "execution_count": 8,
   "id": "2745c3af-5456-4628-a33d-4b2f6cd5e46b",
   "metadata": {},
   "outputs": [
    {
     "name": "stdout",
     "output_type": "stream",
     "text": [
      "[1018500, 1677230, 2026855, 3082940, 3589860]\n"
     ]
    }
   ],
   "source": [
    "bkps_l2 = rpt.BottomUp('l2').fit_predict(input, n_bkps=4)\n",
    "print(bkps_l2)"
   ]
  },
  {
   "cell_type": "markdown",
   "id": "8664473d-11bf-457a-8e80-35736d265199",
   "metadata": {},
   "source": [
    "## rbf\n",
    "\n",
    "Not possible, kernel gets killed"
   ]
  },
  {
   "cell_type": "code",
   "execution_count": 6,
   "id": "d0c6326d-6316-464d-850b-519f4354d202",
   "metadata": {},
   "outputs": [],
   "source": [
    "# CC data 2003\n",
    "file_pattern = '../../private/complex_network_coefficients/2000-2009_run_20240105_1808/rasterfiles/Europe/2003/CN_Europe_0.25x0.25deg_CC_2003-06*.nc'\n",
    "file_paths = glob.glob(file_pattern)\n",
    "\n",
    "# Open and concatenate files\n",
    "cc_2003_06 = xr.open_mfdataset(file_paths)\n",
    "\n",
    "# Rename coefficient\n",
    "cc_2003_06 = cc_2003_06.rename({'coefficient': 'CC'})\n",
    "\n",
    "# Save the merged data to a new NetCDF file\n",
    "if os.path.exists(\"cc_2003_06.nc\"):\n",
    "    os.remove(\"cc_2003_06.nc\")\n",
    "    cc_2003_06.to_netcdf(\"cc_2003_06.nc\")\n",
    "else:\n",
    "    cc_2003_06.to_netcdf(\"cc_2003_06.nc\")"
   ]
  },
  {
   "cell_type": "code",
   "execution_count": 7,
   "id": "64aa0df6-b310-4372-8395-7f5640fc5c6d",
   "metadata": {},
   "outputs": [],
   "source": [
    "data = nc.Dataset('cc_2003_06.nc')\n",
    "variable = data['CC']\n",
    "input = flatten(np.array(variable))"
   ]
  },
  {
   "cell_type": "code",
   "execution_count": null,
   "id": "e50ed9de-9284-42c8-857c-e48b0dc9c4fa",
   "metadata": {},
   "outputs": [],
   "source": [
    "bkps_rbf = rpt.BottomUp('rbf').fit_predict(input, n_bkps=4)"
   ]
  },
  {
   "cell_type": "code",
   "execution_count": null,
   "id": "a36a085d-9908-411d-b781-f0e2db88d063",
   "metadata": {},
   "outputs": [],
   "source": []
  },
  {
   "cell_type": "code",
   "execution_count": 11,
   "id": "d0b7eaf4-69b6-4670-ba43-0cdd5d90adcd",
   "metadata": {},
   "outputs": [],
   "source": [
    "ds = xr.open_dataset('cc_2003.nc')\n",
    "index_l1 = get_3d_index(bkps_l1, variable.shape)\n",
    "time_l1, lat_l1, lon_l1 = get_coords(index_l1, ds)"
   ]
  },
  {
   "cell_type": "code",
   "execution_count": 12,
   "id": "47b1c205-4f7e-4289-a058-c783930669b8",
   "metadata": {},
   "outputs": [],
   "source": [
    "change_point_data_l1 = {'Time': time_l1, 'Latitude': lat_l1, 'Longitude': lon_l1}\n",
    "df_l1 = pd.DataFrame(change_point_data_l1)"
   ]
  },
  {
   "cell_type": "code",
   "execution_count": 13,
   "id": "c67acc60-7bca-4d18-b7c3-f08b8bdba95b",
   "metadata": {},
   "outputs": [
    {
     "name": "stdout",
     "output_type": "stream",
     "text": [
      "         Time   Latitude  Longitude\n",
      "0  2003-07-23  44.097141   3.359550\n",
      "1  2003-07-23  45.605713  35.228466\n",
      "2  2003-07-23  56.668571  -6.677903\n",
      "3  2003-07-23  58.177143  33.973782\n"
     ]
    }
   ],
   "source": [
    "print(df_l1)"
   ]
  },
  {
   "cell_type": "code",
   "execution_count": 14,
   "id": "efe65bc7-c64a-46d5-afcd-3a8c64b65c76",
   "metadata": {},
   "outputs": [],
   "source": [
    "index_l2 = get_3d_index(bkps_l2, variable.shape)\n",
    "time_l2, lat_l2, lon_l2 = get_coords(index_l2, ds)"
   ]
  },
  {
   "cell_type": "code",
   "execution_count": 15,
   "id": "68b038b0-ff6f-4180-8935-55cff952abe3",
   "metadata": {},
   "outputs": [],
   "source": [
    "change_point_data_l2 = {'Time': time_l2, 'Latitude': lat_l2, 'Longitude': lon_l2}\n",
    "df_l2 = pd.DataFrame(change_point_data_l2)"
   ]
  },
  {
   "cell_type": "code",
   "execution_count": 16,
   "id": "c2317995-538e-4f7a-ab88-21ddec81fc21",
   "metadata": {},
   "outputs": [
    {
     "name": "stdout",
     "output_type": "stream",
     "text": [
      "         Time   Latitude  Longitude\n",
      "0  2003-06-27  69.491432  -0.906367\n",
      "1  2003-07-14  49.377144  -4.419476\n",
      "2  2003-07-23  58.177143  33.973782\n",
      "3  2003-08-19  56.417141   8.127341\n"
     ]
    }
   ],
   "source": [
    "print(df_l2)"
   ]
  },
  {
   "cell_type": "code",
   "execution_count": null,
   "id": "45ece5ea-9346-4507-bb45-1d88c0d794bd",
   "metadata": {},
   "outputs": [],
   "source": [
    "# Load your NetCDF file and variable\n",
    "data = nc.Dataset('cc_2003.nc')\n",
    "variable = data['CC']\n",
    "ds = xr.open_dataset('cc_2003.nc')\n",
    "\n",
    "arr_1D = flatten(np.array(variable))\n",
    "change_points = bottomup(arr_1D, \"l1\", 5)\n",
    "index = get_3d_index(change_points, variable.shape)\n",
    "time, lat, lon = get_coords(index, ds)"
   ]
  }
 ],
 "metadata": {
  "kernelspec": {
   "display_name": "Python 3 (ipykernel)",
   "language": "python",
   "name": "python3"
  },
  "language_info": {
   "codemirror_mode": {
    "name": "ipython",
    "version": 3
   },
   "file_extension": ".py",
   "mimetype": "text/x-python",
   "name": "python",
   "nbconvert_exporter": "python",
   "pygments_lexer": "ipython3",
   "version": "3.11.8"
  }
 },
 "nbformat": 4,
 "nbformat_minor": 5
}
