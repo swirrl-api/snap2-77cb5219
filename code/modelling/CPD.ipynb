{
 "cells": [
  {
   "cell_type": "markdown",
   "id": "a02e5693-f6e5-48bc-855d-39af0ee6447c",
   "metadata": {},
   "source": [
    "# Change Point Detection\n",
    "\n",
    "- Binary segmentation\n",
    "- Bottom up segmentation\n",
    "- Pruned Exact Linear Time (PELT)\n",
    "\n",
    "The data used for these models is the closeness centrality (CC) of 2003 (June - August)."
   ]
  },
  {
   "cell_type": "code",
   "execution_count": 1,
   "id": "5f0caa7f-8c3f-4b23-8864-ca7f7b00b8b3",
   "metadata": {},
   "outputs": [
    {
     "name": "stderr",
     "output_type": "stream",
     "text": [
      "ERROR 1: PROJ: proj_create_from_database: Open of /opt/conda/share/proj failed\n"
     ]
    }
   ],
   "source": [
    "# Load libraries\n",
    "import netCDF4 as nc\n",
    "import xarray as xr\n",
    "import glob\n",
    "import pandas as pd\n",
    "import os\n",
    "# from itertools import zip_longest\n",
    "import numpy as np\n",
    "# import seaborn as sns\n",
    "import cartopy.crs as ccrs\n",
    "import matplotlib.pyplot as plt\n",
    "import cartopy.feature as cf\n",
    "import ruptures as rpt\n",
    "# from datetime import datetime\n",
    "import pymannkendall as mk"
   ]
  },
  {
   "cell_type": "markdown",
   "id": "2b886299-9aa0-4af1-b831-85303a5bd393",
   "metadata": {},
   "source": [
    "## Data preparation"
   ]
  },
  {
   "cell_type": "code",
   "execution_count": 5,
   "id": "3ee077d9-4134-4804-89ee-e9744a06de22",
   "metadata": {},
   "outputs": [],
   "source": [
    "# CC data 2003\n",
    "file_pattern = '../../private/complex_network_coefficients/2000-2009_run_20240105_1808/rasterfiles/Europe/2003/CN_Europe_0.25x0.25deg_CC_2003-*.nc'\n",
    "file_paths = glob.glob(file_pattern)\n",
    "\n",
    "# Open and concatenate files\n",
    "cc_2003 = xr.open_mfdataset(file_paths)\n",
    "\n",
    "# Rename coefficient\n",
    "cc_2003 = cc_2003.rename({'coefficient': 'CC'})\n",
    "\n",
    "# Save the merged data to a new NetCDF file\n",
    "if os.path.exists(\"../data/cc_2003.nc\"):\n",
    "    os.remove(\"../data/cc_2003.nc\")\n",
    "    cc_2003.to_netcdf(\"../data/cc_2003.nc\")\n",
    "else:\n",
    "    cc_2003.to_netcdf(\"../data/cc_2003.nc\")"
   ]
  },
  {
   "cell_type": "code",
   "execution_count": 2,
   "id": "0842e9f2-5f08-4d62-89e6-1cb45901c4b9",
   "metadata": {},
   "outputs": [],
   "source": [
    "# Flatten 3D array of Closeness Centrality into 1D array\n",
    "def flatten(data):\n",
    "    flat_data = []\n",
    "    for i in range(data.shape[2]):\n",
    "        for j in range(data.shape[1]):\n",
    "            node = []\n",
    "            for k in range(data.shape[0]):\n",
    "                node.append(data[k][j][i])\n",
    "            flat_data.append(node)\n",
    "    return flat_data"
   ]
  },
  {
   "cell_type": "code",
   "execution_count": 3,
   "id": "8cde3f2b-b243-4030-8d1c-4e90e763a316",
   "metadata": {},
   "outputs": [],
   "source": [
    "# Load your NetCDF file and variable\n",
    "data = nc.Dataset('../data/cc_2003.nc')\n",
    "variable = data['CC']\n",
    "ds = xr.open_dataset('../data/cc_2003.nc')\n",
    "input = flatten(np.array(variable))"
   ]
  },
  {
   "cell_type": "code",
   "execution_count": 8,
   "id": "d3af5207-4d66-44bd-b911-d98c13e8f7de",
   "metadata": {},
   "outputs": [],
   "source": [
    "# input_list = input.tolist()\n",
    "df_input = pd.DataFrame(input)\n",
    "df_input.to_csv(\"../data/df_input.csv\", index=False)"
   ]
  },
  {
   "cell_type": "markdown",
   "id": "177ef48e-1fea-4599-a2e8-ed32d9c61eca",
   "metadata": {},
   "source": [
    "## Coordinate extraction"
   ]
  },
  {
   "cell_type": "code",
   "execution_count": 4,
   "id": "86495864-c145-4120-9393-7225cf9d81e4",
   "metadata": {},
   "outputs": [],
   "source": [
    "# Get the 1D index of the change points\n",
    "def get_1d_index(input, change_points):\n",
    "    flat_index_guide = np.array_split(np.array(range(len(input[0])*len(input))), len(input))\n",
    "    flat_index = []\n",
    "    for i in range(len(change_points)):\n",
    "        for j in range(len(change_points[i])-1):\n",
    "            index = flat_index_guide[i][change_points[i][j]]\n",
    "            flat_index.append(index)\n",
    "    return flat_index\n",
    "\n",
    "# Get the 3D index of the change points\n",
    "def get_3d_index(arr, var_shape):\n",
    "    index = []\n",
    "    for i in range(len(arr)):\n",
    "        ind = np.unravel_index(arr[i], var_shape)\n",
    "        index.append(ind)\n",
    "    return index\n",
    "\n",
    "# Return the time, lat, and lon values related to the change points\n",
    "def get_coords(index, ds):\n",
    "    time = []\n",
    "    lat = []\n",
    "    lon = []\n",
    "    for i in range(len(index)):\n",
    "        t = ds['time'].values[index[i][0]]\n",
    "        t = t.astype('datetime64[D]').astype(str)\n",
    "        la = ds['lat'].values[index[i][1]]\n",
    "        lo = ds['lon'].values[index[i][2]]\n",
    "        time.append(t)\n",
    "        lat.append(la)\n",
    "        lon.append(lo)\n",
    "    return time, lat, lon"
   ]
  },
  {
   "cell_type": "markdown",
   "id": "70d1134b-bd87-4dc7-bafc-8b4d772219e8",
   "metadata": {},
   "source": [
    "## Source/Sink extraction"
   ]
  },
  {
   "cell_type": "code",
   "execution_count": 5,
   "id": "8a1d8333-3740-402c-a5f5-5cc11b3064e0",
   "metadata": {},
   "outputs": [],
   "source": [
    "def sourcesink(input, change_points, jp):\n",
    "    source_sink = []\n",
    "    for i in range(len(change_points)):\n",
    "        for j in range(len(change_points[i])-1):\n",
    "            if (input[i][change_points[i][j] - jp] == 0.0) & (input[i][change_points[i][j] + jp] != 0.0):\n",
    "                source_sink.append(\"increase\")\n",
    "            elif (input[i][change_points[i][j] - jp] != 0.0) & (input[i][change_points[i][j] + jp] == 0.0):\n",
    "                source_sink.append(\"decrease\")\n",
    "            else: source_sink.append(\"none\")  \n",
    "    return source_sink"
   ]
  },
  {
   "cell_type": "markdown",
   "id": "1a1575a3-7271-4a07-9f1f-6549e1db6c28",
   "metadata": {},
   "source": [
    "## Variable value"
   ]
  },
  {
   "cell_type": "code",
   "execution_count": 6,
   "id": "e0197eff-692c-4ff8-8d5e-ec37f74734d3",
   "metadata": {},
   "outputs": [],
   "source": [
    "def variable_value(input, change_points):\n",
    "    value = []\n",
    "    for i in range(len(change_points)):\n",
    "        for j in range(len(change_points[i])-1):\n",
    "            value.append(input[i][change_points[i][j]])\n",
    "    return value"
   ]
  },
  {
   "cell_type": "markdown",
   "id": "a713c1f2-cb5f-4b52-b42b-fdb689431c16",
   "metadata": {},
   "source": [
    "## Models"
   ]
  },
  {
   "cell_type": "code",
   "execution_count": 20,
   "id": "bd007784-3b96-4a41-b822-7f655624cd66",
   "metadata": {},
   "outputs": [],
   "source": [
    "def binseg(input, mod, jp):\n",
    "    my_bkps = rpt.Binseg(model=mod, jump=jp).fit_predict(input, pen=1)\n",
    "    return my_bkps\n",
    "\n",
    "def bottomup(input, mod, jp):\n",
    "    my_bkps = rpt.BottomUp(model=mod, jump=jp).fit_predict(input, pen=1)\n",
    "    return my_bkps\n",
    "\n",
    "def pelt(input, mod, jp):\n",
    "    my_bkps = rpt.Pelt(model=mod, jump=jp).fit_predict(input, pen=1)\n",
    "    return my_bkps"
   ]
  },
  {
   "cell_type": "code",
   "execution_count": 21,
   "id": "013f6786-a2d4-41ad-ba25-a18192656f30",
   "metadata": {},
   "outputs": [],
   "source": [
    "def changepoints(type, input, mod, jp):\n",
    "    bkps = []\n",
    "    if type == \"binseg\":\n",
    "        for i in range(len(input)):\n",
    "            bkps.append(binseg(np.array(input[i]), mod, jp))\n",
    "    elif type == \"bottomup\":\n",
    "        for i in range(len(input)):\n",
    "            bkps.append(bottomup(np.array(input[i]), mod, jp))\n",
    "    elif type == \"pelt\":\n",
    "        for i in range(len(input)):\n",
    "            bkps.append(pelt(np.array(input[i]), mod, jp))\n",
    "    else: print(\"Mehtod does not exist\")\n",
    "    return bkps"
   ]
  },
  {
   "cell_type": "markdown",
   "id": "43de0b91-a591-46fc-b4f0-e0b253dc9679",
   "metadata": {},
   "source": [
    "### Binary segmentation"
   ]
  },
  {
   "cell_type": "code",
   "execution_count": 22,
   "id": "7e5dd416-4ecd-4095-9ecc-f91879e072e5",
   "metadata": {},
   "outputs": [
    {
     "name": "stdout",
     "output_type": "stream",
     "text": [
      "             Time   Latitude  Longitude SourceSink        CC\n",
      "0      2003-06-04  40.577145  -3.164794   increase  1.000000\n",
      "1      2003-06-04  40.577145  -1.157303   decrease  0.000000\n",
      "2      2003-06-04  53.148571  19.419476   increase  1.000000\n",
      "3      2003-06-04  53.148571  21.426966   decrease  0.000000\n",
      "4      2003-06-04  65.720001  -5.172285   increase  0.877397\n",
      "...           ...        ...        ...        ...       ...\n",
      "11168  2003-09-01  46.360001  -0.655431   decrease  0.000000\n",
      "11169  2003-09-01  49.377144 -16.464420   increase  0.974926\n",
      "11170  2003-09-01  49.377144   7.374532   increase  0.974926\n",
      "11171  2003-09-01  61.948570   5.617978   increase  1.000000\n",
      "11172  2003-09-01  61.948570  29.456928   increase  1.000000\n",
      "\n",
      "[11173 rows x 5 columns]\n"
     ]
    }
   ],
   "source": [
    "bkps_l1 = changepoints(\"binseg\", input, \"l1\", 2)\n",
    "\n",
    "flat_index = get_1d_index(input, bkps_l1)\n",
    "index = get_3d_index(flat_index, variable.shape)\n",
    "time, lat, lon = get_coords(index, ds)\n",
    "source_sink = sourcesink(input, bkps_l1, 2)\n",
    "value = variable_value(input, bkps_l1)\n",
    "change_point_data = {'Time': time, 'Latitude': lat, 'Longitude': lon, 'SourceSink': source_sink, 'CC': value}\n",
    "df_bs_l1 = pd.DataFrame(change_point_data)\n",
    "print(df_bs_l1)"
   ]
  },
  {
   "cell_type": "code",
   "execution_count": 23,
   "id": "453152de-886d-41b9-95d2-fb1f3f414dcb",
   "metadata": {},
   "outputs": [
    {
     "name": "stdout",
     "output_type": "stream",
     "text": [
      "             Time   Latitude  Longitude SourceSink   CC\n",
      "0      2003-06-04  40.577145 -18.722847   increase  1.0\n",
      "1      2003-06-04  40.577145 -16.213484   decrease  0.0\n",
      "2      2003-06-04  40.577145  -6.176030   increase  0.0\n",
      "3      2003-06-04  40.577145  -4.670412   decrease  0.0\n",
      "4      2003-06-04  40.577145  -3.164794   increase  1.0\n",
      "...           ...        ...        ...        ...  ...\n",
      "41347  2003-09-01  69.742859  29.456928   decrease  0.0\n",
      "41348  2003-09-01  69.742859  33.471909   increase  1.0\n",
      "41349  2003-09-01  69.742859  36.985020   decrease  0.0\n",
      "41350  2003-09-01  69.994286  -8.936330   increase  0.0\n",
      "41351  2003-09-01  69.994286  -6.426966   decrease  0.0\n",
      "\n",
      "[41352 rows x 5 columns]\n"
     ]
    }
   ],
   "source": [
    "bkps_l2 = changepoints(\"binseg\", input, \"l2\", 2)\n",
    "\n",
    "flat_index = get_1d_index(input, bkps_l2)\n",
    "index = get_3d_index(flat_index, variable.shape)\n",
    "time, lat, lon = get_coords(index, ds)\n",
    "source_sink = sourcesink(input, bkps_l2, 2)\n",
    "value = variable_value(input, bkps_l2)\n",
    "change_point_data = {'Time': time, 'Latitude': lat, 'Longitude': lon, 'SourceSink': source_sink, 'CC': value}\n",
    "df_bs_l2 = pd.DataFrame(change_point_data)\n",
    "print(df_bs_l2)"
   ]
  },
  {
   "cell_type": "code",
   "execution_count": 24,
   "id": "701aa544-a64b-43b6-b4aa-f91d85e9f042",
   "metadata": {},
   "outputs": [
    {
     "name": "stdout",
     "output_type": "stream",
     "text": [
      "             Time   Latitude  Longitude SourceSink   CC\n",
      "0      2003-06-04  40.577145 -18.722847   increase  1.0\n",
      "1      2003-06-04  40.577145 -16.213484   decrease  0.0\n",
      "2      2003-06-04  40.577145  -6.176030   increase  0.0\n",
      "3      2003-06-04  40.577145  -4.670412   decrease  0.0\n",
      "4      2003-06-04  40.577145  -3.164794   increase  1.0\n",
      "...           ...        ...        ...        ...  ...\n",
      "56696  2003-09-01  69.742859  36.985020   decrease  0.0\n",
      "56697  2003-09-01  69.994286  -8.936330   increase  0.0\n",
      "56698  2003-09-01  69.994286  -6.426966   decrease  0.0\n",
      "56699  2003-09-01  69.994286  -2.913858   increase  1.0\n",
      "56700  2003-09-01  69.994286  -1.408240   decrease  0.0\n",
      "\n",
      "[56701 rows x 5 columns]\n"
     ]
    }
   ],
   "source": [
    "bkps_rbf = changepoints(\"binseg\", input, \"rbf\", 2)\n",
    "\n",
    "flat_index = get_1d_index(input, bkps_rbf)\n",
    "index = get_3d_index(flat_index, variable.shape)\n",
    "time, lat, lon = get_coords(index, ds)\n",
    "source_sink = sourcesink(input, bkps_rbf, 2)\n",
    "value = variable_value(input, bkps_rbf)\n",
    "change_point_data = {'Time': time, 'Latitude': lat, 'Longitude': lon, 'SourceSink': source_sink, 'CC': value}\n",
    "df_bs_rbf = pd.DataFrame(change_point_data)\n",
    "print(df_bs_rbf)"
   ]
  },
  {
   "cell_type": "code",
   "execution_count": 25,
   "id": "b9be66be-4768-4260-b445-bd372e9e727c",
   "metadata": {},
   "outputs": [
    {
     "ename": "AssertionError",
     "evalue": "Not enough dimensions",
     "output_type": "error",
     "traceback": [
      "\u001b[0;31m---------------------------------------------------------------------------\u001b[0m",
      "\u001b[0;31mAssertionError\u001b[0m                            Traceback (most recent call last)",
      "Cell \u001b[0;32mIn[25], line 1\u001b[0m\n\u001b[0;32m----> 1\u001b[0m bkps_lin \u001b[38;5;241m=\u001b[39m \u001b[43mchangepoints\u001b[49m\u001b[43m(\u001b[49m\u001b[38;5;124;43m\"\u001b[39;49m\u001b[38;5;124;43mbinseg\u001b[39;49m\u001b[38;5;124;43m\"\u001b[39;49m\u001b[43m,\u001b[49m\u001b[43m \u001b[49m\u001b[38;5;28;43minput\u001b[39;49m\u001b[43m,\u001b[49m\u001b[43m \u001b[49m\u001b[38;5;124;43m\"\u001b[39;49m\u001b[38;5;124;43mlinear\u001b[39;49m\u001b[38;5;124;43m\"\u001b[39;49m\u001b[43m,\u001b[49m\u001b[43m \u001b[49m\u001b[38;5;241;43m2\u001b[39;49m\u001b[43m)\u001b[49m\n\u001b[1;32m      3\u001b[0m flat_index \u001b[38;5;241m=\u001b[39m get_1d_index(\u001b[38;5;28minput\u001b[39m, bkps_lin)\n\u001b[1;32m      4\u001b[0m index \u001b[38;5;241m=\u001b[39m get_3d_index(flat_index, variable\u001b[38;5;241m.\u001b[39mshape)\n",
      "Cell \u001b[0;32mIn[21], line 5\u001b[0m, in \u001b[0;36mchangepoints\u001b[0;34m(type, input, mod, jp)\u001b[0m\n\u001b[1;32m      3\u001b[0m \u001b[38;5;28;01mif\u001b[39;00m \u001b[38;5;28mtype\u001b[39m \u001b[38;5;241m==\u001b[39m \u001b[38;5;124m\"\u001b[39m\u001b[38;5;124mbinseg\u001b[39m\u001b[38;5;124m\"\u001b[39m:\n\u001b[1;32m      4\u001b[0m     \u001b[38;5;28;01mfor\u001b[39;00m i \u001b[38;5;129;01min\u001b[39;00m \u001b[38;5;28mrange\u001b[39m(\u001b[38;5;28mlen\u001b[39m(\u001b[38;5;28minput\u001b[39m)):\n\u001b[0;32m----> 5\u001b[0m         bkps\u001b[38;5;241m.\u001b[39mappend(\u001b[43mbinseg\u001b[49m\u001b[43m(\u001b[49m\u001b[43mnp\u001b[49m\u001b[38;5;241;43m.\u001b[39;49m\u001b[43marray\u001b[49m\u001b[43m(\u001b[49m\u001b[38;5;28;43minput\u001b[39;49m\u001b[43m[\u001b[49m\u001b[43mi\u001b[49m\u001b[43m]\u001b[49m\u001b[43m)\u001b[49m\u001b[43m,\u001b[49m\u001b[43m \u001b[49m\u001b[43mmod\u001b[49m\u001b[43m,\u001b[49m\u001b[43m \u001b[49m\u001b[43mjp\u001b[49m\u001b[43m)\u001b[49m)\n\u001b[1;32m      6\u001b[0m \u001b[38;5;28;01melif\u001b[39;00m \u001b[38;5;28mtype\u001b[39m \u001b[38;5;241m==\u001b[39m \u001b[38;5;124m\"\u001b[39m\u001b[38;5;124mbottomup\u001b[39m\u001b[38;5;124m\"\u001b[39m:\n\u001b[1;32m      7\u001b[0m     \u001b[38;5;28;01mfor\u001b[39;00m i \u001b[38;5;129;01min\u001b[39;00m \u001b[38;5;28mrange\u001b[39m(\u001b[38;5;28mlen\u001b[39m(\u001b[38;5;28minput\u001b[39m)):\n",
      "Cell \u001b[0;32mIn[20], line 2\u001b[0m, in \u001b[0;36mbinseg\u001b[0;34m(input, mod, jp)\u001b[0m\n\u001b[1;32m      1\u001b[0m \u001b[38;5;28;01mdef\u001b[39;00m \u001b[38;5;21mbinseg\u001b[39m(\u001b[38;5;28minput\u001b[39m, mod, jp):\n\u001b[0;32m----> 2\u001b[0m     my_bkps \u001b[38;5;241m=\u001b[39m \u001b[43mrpt\u001b[49m\u001b[38;5;241;43m.\u001b[39;49m\u001b[43mBinseg\u001b[49m\u001b[43m(\u001b[49m\u001b[43mmodel\u001b[49m\u001b[38;5;241;43m=\u001b[39;49m\u001b[43mmod\u001b[49m\u001b[43m,\u001b[49m\u001b[43m \u001b[49m\u001b[43mjump\u001b[49m\u001b[38;5;241;43m=\u001b[39;49m\u001b[43mjp\u001b[49m\u001b[43m)\u001b[49m\u001b[38;5;241;43m.\u001b[39;49m\u001b[43mfit_predict\u001b[49m\u001b[43m(\u001b[49m\u001b[38;5;28;43minput\u001b[39;49m\u001b[43m,\u001b[49m\u001b[43m \u001b[49m\u001b[43mpen\u001b[49m\u001b[38;5;241;43m=\u001b[39;49m\u001b[38;5;241;43m1\u001b[39;49m\u001b[43m)\u001b[49m\n\u001b[1;32m      3\u001b[0m     \u001b[38;5;28;01mreturn\u001b[39;00m my_bkps\n",
      "File \u001b[0;32m/opt/conda/lib/python3.11/site-packages/ruptures/detection/binseg.py:173\u001b[0m, in \u001b[0;36mBinseg.fit_predict\u001b[0;34m(self, signal, n_bkps, pen, epsilon)\u001b[0m\n\u001b[1;32m    159\u001b[0m \u001b[38;5;28;01mdef\u001b[39;00m \u001b[38;5;21mfit_predict\u001b[39m(\u001b[38;5;28mself\u001b[39m, signal, n_bkps\u001b[38;5;241m=\u001b[39m\u001b[38;5;28;01mNone\u001b[39;00m, pen\u001b[38;5;241m=\u001b[39m\u001b[38;5;28;01mNone\u001b[39;00m, epsilon\u001b[38;5;241m=\u001b[39m\u001b[38;5;28;01mNone\u001b[39;00m):\n\u001b[1;32m    160\u001b[0m \u001b[38;5;250m    \u001b[39m\u001b[38;5;124;03m\"\"\"Fit to the signal and return the optimal breakpoints.\u001b[39;00m\n\u001b[1;32m    161\u001b[0m \n\u001b[1;32m    162\u001b[0m \u001b[38;5;124;03m    Helper method to call fit and predict once\u001b[39;00m\n\u001b[0;32m   (...)\u001b[0m\n\u001b[1;32m    171\u001b[0m \u001b[38;5;124;03m        list: sorted list of breakpoints\u001b[39;00m\n\u001b[1;32m    172\u001b[0m \u001b[38;5;124;03m    \"\"\"\u001b[39;00m\n\u001b[0;32m--> 173\u001b[0m     \u001b[38;5;28;43mself\u001b[39;49m\u001b[38;5;241;43m.\u001b[39;49m\u001b[43mfit\u001b[49m\u001b[43m(\u001b[49m\u001b[43msignal\u001b[49m\u001b[43m)\u001b[49m\n\u001b[1;32m    174\u001b[0m     \u001b[38;5;28;01mreturn\u001b[39;00m \u001b[38;5;28mself\u001b[39m\u001b[38;5;241m.\u001b[39mpredict(n_bkps\u001b[38;5;241m=\u001b[39mn_bkps, pen\u001b[38;5;241m=\u001b[39mpen, epsilon\u001b[38;5;241m=\u001b[39mepsilon)\n",
      "File \u001b[0;32m/opt/conda/lib/python3.11/site-packages/ruptures/detection/binseg.py:118\u001b[0m, in \u001b[0;36mBinseg.fit\u001b[0;34m(self, signal)\u001b[0m\n\u001b[1;32m    116\u001b[0m     \u001b[38;5;28mself\u001b[39m\u001b[38;5;241m.\u001b[39msignal \u001b[38;5;241m=\u001b[39m signal\n\u001b[1;32m    117\u001b[0m \u001b[38;5;28mself\u001b[39m\u001b[38;5;241m.\u001b[39mn_samples, _ \u001b[38;5;241m=\u001b[39m \u001b[38;5;28mself\u001b[39m\u001b[38;5;241m.\u001b[39msignal\u001b[38;5;241m.\u001b[39mshape\n\u001b[0;32m--> 118\u001b[0m \u001b[38;5;28;43mself\u001b[39;49m\u001b[38;5;241;43m.\u001b[39;49m\u001b[43mcost\u001b[49m\u001b[38;5;241;43m.\u001b[39;49m\u001b[43mfit\u001b[49m\u001b[43m(\u001b[49m\u001b[43msignal\u001b[49m\u001b[43m)\u001b[49m\n\u001b[1;32m    119\u001b[0m \u001b[38;5;28mself\u001b[39m\u001b[38;5;241m.\u001b[39msingle_bkp\u001b[38;5;241m.\u001b[39mcache_clear()\n\u001b[1;32m    121\u001b[0m \u001b[38;5;28;01mreturn\u001b[39;00m \u001b[38;5;28mself\u001b[39m\n",
      "File \u001b[0;32m/opt/conda/lib/python3.11/site-packages/ruptures/costs/costlinear.py:29\u001b[0m, in \u001b[0;36mCostLinear.fit\u001b[0;34m(self, signal)\u001b[0m\n\u001b[1;32m     19\u001b[0m \u001b[38;5;28;01mdef\u001b[39;00m \u001b[38;5;21mfit\u001b[39m(\u001b[38;5;28mself\u001b[39m, signal) \u001b[38;5;241m-\u001b[39m\u001b[38;5;241m>\u001b[39m \u001b[38;5;124m\"\u001b[39m\u001b[38;5;124mCostLinear\u001b[39m\u001b[38;5;124m\"\u001b[39m:\n\u001b[1;32m     20\u001b[0m \u001b[38;5;250m    \u001b[39m\u001b[38;5;124;03m\"\"\"Set parameters of the instance. The first column contains the\u001b[39;00m\n\u001b[1;32m     21\u001b[0m \u001b[38;5;124;03m    observed variable. The other columns contains the covariates.\u001b[39;00m\n\u001b[1;32m     22\u001b[0m \n\u001b[0;32m   (...)\u001b[0m\n\u001b[1;32m     27\u001b[0m \u001b[38;5;124;03m        self\u001b[39;00m\n\u001b[1;32m     28\u001b[0m \u001b[38;5;124;03m    \"\"\"\u001b[39;00m\n\u001b[0;32m---> 29\u001b[0m     \u001b[38;5;28;01massert\u001b[39;00m signal\u001b[38;5;241m.\u001b[39mndim \u001b[38;5;241m>\u001b[39m \u001b[38;5;241m1\u001b[39m, \u001b[38;5;124m\"\u001b[39m\u001b[38;5;124mNot enough dimensions\u001b[39m\u001b[38;5;124m\"\u001b[39m\n\u001b[1;32m     31\u001b[0m     \u001b[38;5;28mself\u001b[39m\u001b[38;5;241m.\u001b[39msignal \u001b[38;5;241m=\u001b[39m signal[:, \u001b[38;5;241m0\u001b[39m]\u001b[38;5;241m.\u001b[39mreshape(\u001b[38;5;241m-\u001b[39m\u001b[38;5;241m1\u001b[39m, \u001b[38;5;241m1\u001b[39m)\n\u001b[1;32m     32\u001b[0m     \u001b[38;5;28mself\u001b[39m\u001b[38;5;241m.\u001b[39mcovar \u001b[38;5;241m=\u001b[39m signal[:, \u001b[38;5;241m1\u001b[39m:]\n",
      "\u001b[0;31mAssertionError\u001b[0m: Not enough dimensions"
     ]
    }
   ],
   "source": [
    "bkps_lin = changepoints(\"binseg\", input, \"linear\", 2)\n",
    "\n",
    "flat_index = get_1d_index(input, bkps_lin)\n",
    "index = get_3d_index(flat_index, variable.shape)\n",
    "time, lat, lon = get_coords(index, ds)\n",
    "source_sink = sourcesink(input, bkps_lin, 2)\n",
    "value = variable_value(input, bkps_lin)\n",
    "change_point_data = {'Time': time, 'Latitude': lat, 'Longitude': lon, 'SourceSink': source_sink, 'CC': value}\n",
    "df_bs_lin = pd.DataFrame(change_point_data)\n",
    "print(df_bs_lin)"
   ]
  },
  {
   "cell_type": "code",
   "execution_count": 26,
   "id": "6bd64827-918c-4091-bf28-6ad16281e17a",
   "metadata": {},
   "outputs": [
    {
     "name": "stderr",
     "output_type": "stream",
     "text": [
      "/opt/conda/lib/python3.11/site-packages/ruptures/costs/costnormal.py:27: UserWarning: New behaviour in v1.1.5: a small bias is added to the covariance matrix to cope with truly constant segments (see PR#198).\n",
      "  warnings.warn(\n"
     ]
    },
    {
     "name": "stdout",
     "output_type": "stream",
     "text": [
      "              Time   Latitude  Longitude SourceSink        CC\n",
      "0       2003-06-04  40.577145 -18.722847   increase  1.000000\n",
      "1       2003-06-04  40.577145 -17.719101       none  1.000000\n",
      "2       2003-06-04  40.577145 -17.217228       none  0.993076\n",
      "3       2003-06-04  40.577145 -16.715355   decrease  0.974960\n",
      "4       2003-06-04  40.577145 -16.213484   decrease  0.000000\n",
      "...            ...        ...        ...        ...       ...\n",
      "186469  2003-09-01  69.994286  -6.426966   decrease  0.000000\n",
      "186470  2003-09-01  69.994286  -2.913858   increase  1.000000\n",
      "186471  2003-09-01  69.994286  -2.411985       none  0.877397\n",
      "186472  2003-09-01  69.994286  -1.910112   decrease  0.993286\n",
      "186473  2003-09-01  69.994286  -1.408240   decrease  0.000000\n",
      "\n",
      "[186474 rows x 5 columns]\n"
     ]
    }
   ],
   "source": [
    "bkps_nor = changepoints(\"binseg\", input, \"normal\", 2)\n",
    "\n",
    "flat_index = get_1d_index(input, bkps_nor)\n",
    "index = get_3d_index(flat_index, variable.shape)\n",
    "time, lat, lon = get_coords(index, ds)\n",
    "source_sink = sourcesink(input, bkps_nor, 2)\n",
    "value = variable_value(input, bkps_nor)\n",
    "change_point_data = {'Time': time, 'Latitude': lat, 'Longitude': lon, 'SourceSink': source_sink, 'CC': value}\n",
    "df_bs_nor = pd.DataFrame(change_point_data)\n",
    "print(df_bs_nor)"
   ]
  },
  {
   "cell_type": "code",
   "execution_count": 27,
   "id": "3acbf617-4dec-46a3-9756-88e421a417c8",
   "metadata": {},
   "outputs": [
    {
     "name": "stdout",
     "output_type": "stream",
     "text": [
      "             Time   Latitude  Longitude SourceSink        CC\n",
      "0      2003-06-04  53.148571 -17.970037   decrease  0.974960\n",
      "1      2003-06-04  65.720001 -19.224720   decrease  0.974960\n",
      "2      2003-06-04  65.720001  -3.666667   decrease  0.000000\n",
      "3      2003-06-04  65.971428 -23.239700   decrease  0.000000\n",
      "4      2003-06-05  42.588570 -16.213484   increase  1.000000\n",
      "...           ...        ...        ...        ...       ...\n",
      "21070  2003-09-01  69.742859 -18.722847   decrease  0.998870\n",
      "21071  2003-09-01  69.742859   5.116105   decrease  0.998870\n",
      "21072  2003-09-01  69.742859  28.955055   decrease  0.998870\n",
      "21073  2003-09-01  69.994286  -7.932584       none  0.983945\n",
      "21074  2003-09-01  69.994286  -6.426966   decrease  0.000000\n",
      "\n",
      "[21075 rows x 5 columns]\n"
     ]
    }
   ],
   "source": [
    "bkps_ar = changepoints(\"binseg\", input, \"ar\", 2)\n",
    "\n",
    "flat_index = get_1d_index(input, bkps_ar)\n",
    "index = get_3d_index(flat_index, variable.shape)\n",
    "time, lat, lon = get_coords(index, ds)\n",
    "source_sink = sourcesink(input, bkps_ar, 2)\n",
    "value = variable_value(input, bkps_ar)\n",
    "change_point_data = {'Time': time, 'Latitude': lat, 'Longitude': lon, 'SourceSink': source_sink, 'CC': value}\n",
    "df_bs_ar = pd.DataFrame(change_point_data)\n",
    "print(df_bs_ar)"
   ]
  },
  {
   "cell_type": "markdown",
   "id": "d1bcd677-768d-46a4-a217-1dc81df8bc7f",
   "metadata": {},
   "source": [
    "### Bottom up segmentation"
   ]
  },
  {
   "cell_type": "code",
   "execution_count": 9,
   "id": "794df165-7986-4470-9870-1b9bf8b7c3b3",
   "metadata": {},
   "outputs": [
    {
     "name": "stdout",
     "output_type": "stream",
     "text": [
      "             Time   Latitude  Longitude SourceSink        CC\n",
      "0      2003-06-04  40.577145 -18.722847   increase  1.000000\n",
      "1      2003-06-04  40.577145 -16.715355   decrease  0.974960\n",
      "2      2003-06-04  40.577145  -5.674157   increase  0.998813\n",
      "3      2003-06-04  40.577145  -4.670412   decrease  0.000000\n",
      "4      2003-06-04  40.577145  -3.164794   increase  1.000000\n",
      "...           ...        ...        ...        ...       ...\n",
      "72517  2003-09-01  69.742859  36.985020   decrease  0.000000\n",
      "72518  2003-09-01  69.994286  -8.434457   increase  0.986869\n",
      "72519  2003-09-01  69.994286  -6.426966   decrease  0.000000\n",
      "72520  2003-09-01  69.994286  -2.913858   increase  1.000000\n",
      "72521  2003-09-01  69.994286  -1.408240   decrease  0.000000\n",
      "\n",
      "[72522 rows x 5 columns]\n"
     ]
    }
   ],
   "source": [
    "bkps_l1 = changepoints(\"bottomup\", input, \"l1\", 2)\n",
    "\n",
    "flat_index = get_1d_index(input, bkps_l1)\n",
    "index = get_3d_index(flat_index, variable.shape)\n",
    "time, lat, lon = get_coords(index, ds)\n",
    "source_sink = sourcesink(input, bkps_l1, 2)\n",
    "value = variable_value(input, bkps_l1)\n",
    "change_point_data = {'Time': time, 'Latitude': lat, 'Longitude': lon, 'SourceSink': source_sink, 'CC': value}\n",
    "df_bu_l1 = pd.DataFrame(change_point_data)\n",
    "print(df_bu_l1)"
   ]
  },
  {
   "cell_type": "code",
   "execution_count": 32,
   "id": "c3873efb-d941-4f4e-841d-69eda1c73cc9",
   "metadata": {},
   "outputs": [],
   "source": [
    "# dataset = df_bu_l1.set_index(['Time', 'Latitude', 'Longitude'], inplace = True, append = True, drop = False).to_xarray()\n",
    "# test = dataset.to_netcdf(\"test.nc\")"
   ]
  },
  {
   "cell_type": "code",
   "execution_count": null,
   "id": "7a0f3c4b-35cc-44d8-ab21-a070eb5adc6c",
   "metadata": {},
   "outputs": [],
   "source": [
    "# projection = ccrs.Mercator()\n",
    "# crs = ccrs.PlateCarree()\n",
    "\n",
    "# # Now we will create axes object having specific projection \n",
    "# plt.figure(dpi=150)\n",
    "# ax = plt.axes(projection=projection, frameon=True)\n",
    "\n",
    "# # Draw gridlines in degrees over Mercator map\n",
    "# gl = ax.gridlines(crs=crs, draw_labels=True,\n",
    "#                   linewidth=.6, color='gray', alpha=0.5, linestyle='-.')\n",
    "# gl.xlabel_style = {\"size\" : 7}\n",
    "# gl.ylabel_style = {\"size\" : 7}\n",
    "\n",
    "# # To plot borders and coastlines, we can use cartopy feature\n",
    "# ax.add_feature(cf.COASTLINE.with_scale(\"50m\"), lw=0.5)\n",
    "# ax.add_feature(cf.BORDERS.with_scale(\"50m\"), lw=0.3)\n",
    "\n",
    "# dataset = nc.Dataset(\"test.nc\")\n",
    "\n",
    "# sst = dataset.variables['CC'][1,:] #52\n",
    "# lats = dataset.variables['Latitude'][:]\n",
    "# lons = dataset.variables['Longitude'][:]\n",
    "\n",
    "# plt.contourf(lons, lats, sst, 1,\n",
    "#              transform=ccrs.PlateCarree())\n",
    "\n",
    "# plt.show()"
   ]
  },
  {
   "cell_type": "code",
   "execution_count": 249,
   "id": "d83cc14e-9835-4808-916d-494aa29a19b9",
   "metadata": {},
   "outputs": [
    {
     "name": "stdout",
     "output_type": "stream",
     "text": [
      "             Time   Latitude  Longitude Source/Sink\n",
      "0      2003-06-04  40.577145 -18.722847    increase\n",
      "1      2003-06-04  40.577145 -16.213484    decrease\n",
      "2      2003-06-04  40.577145  -6.176030    increase\n",
      "3      2003-06-04  40.577145  -4.670412    decrease\n",
      "4      2003-06-04  40.577145  -3.164794    increase\n",
      "...           ...        ...        ...         ...\n",
      "67865  2003-09-01  69.742859  36.985020    decrease\n",
      "67866  2003-09-01  69.994286  -8.936330    increase\n",
      "67867  2003-09-01  69.994286  -6.426966    decrease\n",
      "67868  2003-09-01  69.994286  -2.913858    increase\n",
      "67869  2003-09-01  69.994286  -1.408240    decrease\n",
      "\n",
      "[67870 rows x 4 columns]\n"
     ]
    }
   ],
   "source": [
    "bkps_l2 = changepoints(\"bottomup\", input, \"l2\", 2)\n",
    "\n",
    "flat_index = get_1d_index(input, bkps_l2)\n",
    "index = get_3d_index(flat_index, variable.shape)\n",
    "time, lat, lon = get_coords(index, ds)\n",
    "source_sink = sourcesink(input, bkps_l2, 2)\n",
    "change_point_data = {'Time': time, 'Latitude': lat, 'Longitude': lon, 'Source/Sink': source_sink}\n",
    "df_bu_l2 = pd.DataFrame(change_point_data)\n",
    "print(df_bu_l2)"
   ]
  },
  {
   "cell_type": "code",
   "execution_count": 250,
   "id": "3c91d915-1099-4cc1-89bd-310a11a95647",
   "metadata": {},
   "outputs": [
    {
     "name": "stdout",
     "output_type": "stream",
     "text": [
      "             Time   Latitude  Longitude Source/Sink\n",
      "0      2003-06-04  40.577145 -18.722847    increase\n",
      "1      2003-06-04  40.577145 -16.213484    decrease\n",
      "2      2003-06-04  40.577145  -6.176030    increase\n",
      "3      2003-06-04  40.577145  -4.670412    decrease\n",
      "4      2003-06-04  40.577145  -3.164794    increase\n",
      "...           ...        ...        ...         ...\n",
      "78280  2003-09-01  69.742859  36.985020    decrease\n",
      "78281  2003-09-01  69.994286  -8.936330    increase\n",
      "78282  2003-09-01  69.994286  -6.426966    decrease\n",
      "78283  2003-09-01  69.994286  -2.913858    increase\n",
      "78284  2003-09-01  69.994286  -1.408240    decrease\n",
      "\n",
      "[78285 rows x 4 columns]\n"
     ]
    }
   ],
   "source": [
    "bkps_rbf = changepoints(\"bottomup\", input, \"rbf\", 2)\n",
    "\n",
    "flat_index = get_1d_index(input, bkps_rbf)\n",
    "index = get_3d_index(flat_index, variable.shape)\n",
    "time, lat, lon = get_coords(index, ds)\n",
    "source_sink = sourcesink(input, bkps_rbf, 2)\n",
    "change_point_data = {'Time': time, 'Latitude': lat, 'Longitude': lon, 'Source/Sink': source_sink}\n",
    "df_bu_rbf = pd.DataFrame(change_point_data)\n",
    "print(df_bu_rbf)"
   ]
  },
  {
   "cell_type": "code",
   "execution_count": 251,
   "id": "bf4ff456-dbdf-4d4d-9175-08b6a427529e",
   "metadata": {},
   "outputs": [
    {
     "ename": "AssertionError",
     "evalue": "Not enough dimensions",
     "output_type": "error",
     "traceback": [
      "\u001b[0;31m---------------------------------------------------------------------------\u001b[0m",
      "\u001b[0;31mAssertionError\u001b[0m                            Traceback (most recent call last)",
      "Cell \u001b[0;32mIn[251], line 1\u001b[0m\n\u001b[0;32m----> 1\u001b[0m bkps_lin \u001b[38;5;241m=\u001b[39m \u001b[43mchangepoints\u001b[49m\u001b[43m(\u001b[49m\u001b[38;5;124;43m\"\u001b[39;49m\u001b[38;5;124;43mbottomup\u001b[39;49m\u001b[38;5;124;43m\"\u001b[39;49m\u001b[43m,\u001b[49m\u001b[43m \u001b[49m\u001b[38;5;28;43minput\u001b[39;49m\u001b[43m,\u001b[49m\u001b[43m \u001b[49m\u001b[38;5;124;43m\"\u001b[39;49m\u001b[38;5;124;43mlinear\u001b[39;49m\u001b[38;5;124;43m\"\u001b[39;49m\u001b[43m,\u001b[49m\u001b[43m \u001b[49m\u001b[38;5;241;43m2\u001b[39;49m\u001b[43m)\u001b[49m\n\u001b[1;32m      3\u001b[0m flat_index \u001b[38;5;241m=\u001b[39m get_1d_index(\u001b[38;5;28minput\u001b[39m, bkps_lin)\n\u001b[1;32m      4\u001b[0m index \u001b[38;5;241m=\u001b[39m get_3d_index(flat_index, variable\u001b[38;5;241m.\u001b[39mshape)\n",
      "Cell \u001b[0;32mIn[124], line 7\u001b[0m, in \u001b[0;36mchangepoints\u001b[0;34m(type, input, mod, jp)\u001b[0m\n\u001b[1;32m      5\u001b[0m \u001b[38;5;28;01melif\u001b[39;00m \u001b[38;5;28mtype\u001b[39m \u001b[38;5;241m==\u001b[39m \u001b[38;5;124m\"\u001b[39m\u001b[38;5;124mbottomup\u001b[39m\u001b[38;5;124m\"\u001b[39m:\n\u001b[1;32m      6\u001b[0m     \u001b[38;5;28;01mfor\u001b[39;00m i \u001b[38;5;129;01min\u001b[39;00m \u001b[38;5;28mrange\u001b[39m(\u001b[38;5;28mlen\u001b[39m(\u001b[38;5;28minput\u001b[39m)):\n\u001b[0;32m----> 7\u001b[0m         bkps\u001b[38;5;241m.\u001b[39mappend(\u001b[43mbottomup\u001b[49m\u001b[43m(\u001b[49m\u001b[43mnp\u001b[49m\u001b[38;5;241;43m.\u001b[39;49m\u001b[43marray\u001b[49m\u001b[43m(\u001b[49m\u001b[38;5;28;43minput\u001b[39;49m\u001b[43m[\u001b[49m\u001b[43mi\u001b[49m\u001b[43m]\u001b[49m\u001b[43m)\u001b[49m\u001b[43m,\u001b[49m\u001b[43m \u001b[49m\u001b[43mmod\u001b[49m\u001b[43m,\u001b[49m\u001b[43m \u001b[49m\u001b[43mjp\u001b[49m\u001b[43m)\u001b[49m)\n\u001b[1;32m      8\u001b[0m \u001b[38;5;28;01melif\u001b[39;00m \u001b[38;5;28mtype\u001b[39m \u001b[38;5;241m==\u001b[39m \u001b[38;5;124m\"\u001b[39m\u001b[38;5;124mpelt\u001b[39m\u001b[38;5;124m\"\u001b[39m:\n\u001b[1;32m      9\u001b[0m     pelt()\n",
      "Cell \u001b[0;32mIn[89], line 6\u001b[0m, in \u001b[0;36mbottomup\u001b[0;34m(input, mod, jp)\u001b[0m\n\u001b[1;32m      5\u001b[0m \u001b[38;5;28;01mdef\u001b[39;00m \u001b[38;5;21mbottomup\u001b[39m(\u001b[38;5;28minput\u001b[39m, mod, jp):\n\u001b[0;32m----> 6\u001b[0m     my_bkps \u001b[38;5;241m=\u001b[39m \u001b[43mrpt\u001b[49m\u001b[38;5;241;43m.\u001b[39;49m\u001b[43mBottomUp\u001b[49m\u001b[43m(\u001b[49m\u001b[43mmodel\u001b[49m\u001b[38;5;241;43m=\u001b[39;49m\u001b[43mmod\u001b[49m\u001b[43m,\u001b[49m\u001b[43m \u001b[49m\u001b[43mjump\u001b[49m\u001b[38;5;241;43m=\u001b[39;49m\u001b[43mjp\u001b[49m\u001b[43m)\u001b[49m\u001b[38;5;241;43m.\u001b[39;49m\u001b[43mfit_predict\u001b[49m\u001b[43m(\u001b[49m\u001b[38;5;28;43minput\u001b[39;49m\u001b[43m,\u001b[49m\u001b[43m \u001b[49m\u001b[43mpen\u001b[49m\u001b[38;5;241;43m=\u001b[39;49m\u001b[38;5;241;43m1\u001b[39;49m\u001b[43m)\u001b[49m\n\u001b[1;32m      7\u001b[0m     \u001b[38;5;28;01mreturn\u001b[39;00m my_bkps\n",
      "File \u001b[0;32m/opt/conda/lib/python3.11/site-packages/ruptures/detection/bottomup.py:216\u001b[0m, in \u001b[0;36mBottomUp.fit_predict\u001b[0;34m(self, signal, n_bkps, pen, epsilon)\u001b[0m\n\u001b[1;32m    202\u001b[0m \u001b[38;5;28;01mdef\u001b[39;00m \u001b[38;5;21mfit_predict\u001b[39m(\u001b[38;5;28mself\u001b[39m, signal, n_bkps\u001b[38;5;241m=\u001b[39m\u001b[38;5;28;01mNone\u001b[39;00m, pen\u001b[38;5;241m=\u001b[39m\u001b[38;5;28;01mNone\u001b[39;00m, epsilon\u001b[38;5;241m=\u001b[39m\u001b[38;5;28;01mNone\u001b[39;00m):\n\u001b[1;32m    203\u001b[0m \u001b[38;5;250m    \u001b[39m\u001b[38;5;124;03m\"\"\"Fit to the signal and return the optimal breakpoints.\u001b[39;00m\n\u001b[1;32m    204\u001b[0m \n\u001b[1;32m    205\u001b[0m \u001b[38;5;124;03m    Helper method to call fit and predict once\u001b[39;00m\n\u001b[0;32m   (...)\u001b[0m\n\u001b[1;32m    214\u001b[0m \u001b[38;5;124;03m        list: sorted list of breakpoints\u001b[39;00m\n\u001b[1;32m    215\u001b[0m \u001b[38;5;124;03m    \"\"\"\u001b[39;00m\n\u001b[0;32m--> 216\u001b[0m     \u001b[38;5;28;43mself\u001b[39;49m\u001b[38;5;241;43m.\u001b[39;49m\u001b[43mfit\u001b[49m\u001b[43m(\u001b[49m\u001b[43msignal\u001b[49m\u001b[43m)\u001b[49m\n\u001b[1;32m    217\u001b[0m     \u001b[38;5;28;01mreturn\u001b[39;00m \u001b[38;5;28mself\u001b[39m\u001b[38;5;241m.\u001b[39mpredict(n_bkps\u001b[38;5;241m=\u001b[39mn_bkps, pen\u001b[38;5;241m=\u001b[39mpen, epsilon\u001b[38;5;241m=\u001b[39mepsilon)\n",
      "File \u001b[0;32m/opt/conda/lib/python3.11/site-packages/ruptures/detection/bottomup.py:156\u001b[0m, in \u001b[0;36mBottomUp.fit\u001b[0;34m(self, signal)\u001b[0m\n\u001b[1;32m    147\u001b[0m \u001b[38;5;250m\u001b[39m\u001b[38;5;124;03m\"\"\"Compute params to segment signal.\u001b[39;00m\n\u001b[1;32m    148\u001b[0m \n\u001b[1;32m    149\u001b[0m \u001b[38;5;124;03mArgs:\u001b[39;00m\n\u001b[0;32m   (...)\u001b[0m\n\u001b[1;32m    153\u001b[0m \u001b[38;5;124;03m    self\u001b[39;00m\n\u001b[1;32m    154\u001b[0m \u001b[38;5;124;03m\"\"\"\u001b[39;00m\n\u001b[1;32m    155\u001b[0m \u001b[38;5;66;03m# update some params\u001b[39;00m\n\u001b[0;32m--> 156\u001b[0m \u001b[38;5;28;43mself\u001b[39;49m\u001b[38;5;241;43m.\u001b[39;49m\u001b[43mcost\u001b[49m\u001b[38;5;241;43m.\u001b[39;49m\u001b[43mfit\u001b[49m\u001b[43m(\u001b[49m\u001b[43msignal\u001b[49m\u001b[43m)\u001b[49m\n\u001b[1;32m    157\u001b[0m \u001b[38;5;28mself\u001b[39m\u001b[38;5;241m.\u001b[39mmerge\u001b[38;5;241m.\u001b[39mcache_clear()\n\u001b[1;32m    158\u001b[0m \u001b[38;5;28;01mif\u001b[39;00m signal\u001b[38;5;241m.\u001b[39mndim \u001b[38;5;241m==\u001b[39m \u001b[38;5;241m1\u001b[39m:\n",
      "File \u001b[0;32m/opt/conda/lib/python3.11/site-packages/ruptures/costs/costlinear.py:29\u001b[0m, in \u001b[0;36mCostLinear.fit\u001b[0;34m(self, signal)\u001b[0m\n\u001b[1;32m     19\u001b[0m \u001b[38;5;28;01mdef\u001b[39;00m \u001b[38;5;21mfit\u001b[39m(\u001b[38;5;28mself\u001b[39m, signal) \u001b[38;5;241m-\u001b[39m\u001b[38;5;241m>\u001b[39m \u001b[38;5;124m\"\u001b[39m\u001b[38;5;124mCostLinear\u001b[39m\u001b[38;5;124m\"\u001b[39m:\n\u001b[1;32m     20\u001b[0m \u001b[38;5;250m    \u001b[39m\u001b[38;5;124;03m\"\"\"Set parameters of the instance. The first column contains the\u001b[39;00m\n\u001b[1;32m     21\u001b[0m \u001b[38;5;124;03m    observed variable. The other columns contains the covariates.\u001b[39;00m\n\u001b[1;32m     22\u001b[0m \n\u001b[0;32m   (...)\u001b[0m\n\u001b[1;32m     27\u001b[0m \u001b[38;5;124;03m        self\u001b[39;00m\n\u001b[1;32m     28\u001b[0m \u001b[38;5;124;03m    \"\"\"\u001b[39;00m\n\u001b[0;32m---> 29\u001b[0m     \u001b[38;5;28;01massert\u001b[39;00m signal\u001b[38;5;241m.\u001b[39mndim \u001b[38;5;241m>\u001b[39m \u001b[38;5;241m1\u001b[39m, \u001b[38;5;124m\"\u001b[39m\u001b[38;5;124mNot enough dimensions\u001b[39m\u001b[38;5;124m\"\u001b[39m\n\u001b[1;32m     31\u001b[0m     \u001b[38;5;28mself\u001b[39m\u001b[38;5;241m.\u001b[39msignal \u001b[38;5;241m=\u001b[39m signal[:, \u001b[38;5;241m0\u001b[39m]\u001b[38;5;241m.\u001b[39mreshape(\u001b[38;5;241m-\u001b[39m\u001b[38;5;241m1\u001b[39m, \u001b[38;5;241m1\u001b[39m)\n\u001b[1;32m     32\u001b[0m     \u001b[38;5;28mself\u001b[39m\u001b[38;5;241m.\u001b[39mcovar \u001b[38;5;241m=\u001b[39m signal[:, \u001b[38;5;241m1\u001b[39m:]\n",
      "\u001b[0;31mAssertionError\u001b[0m: Not enough dimensions"
     ]
    }
   ],
   "source": [
    "bkps_lin = changepoints(\"bottomup\", input, \"linear\", 2)\n",
    "\n",
    "flat_index = get_1d_index(input, bkps_lin)\n",
    "index = get_3d_index(flat_index, variable.shape)\n",
    "time, lat, lon = get_coords(index, ds)\n",
    "source_sink = sourcesink(input, bkps_lin, 2)\n",
    "change_point_data = {'Time': time, 'Latitude': lat, 'Longitude': lon, 'Source/Sink': source_sink}\n",
    "df_bu_lin = pd.DataFrame(change_point_data)\n",
    "print(df_bu_lin)"
   ]
  },
  {
   "cell_type": "code",
   "execution_count": 252,
   "id": "d3105f4d-97cf-4767-a3b2-c274606dafb7",
   "metadata": {},
   "outputs": [
    {
     "name": "stderr",
     "output_type": "stream",
     "text": [
      "/opt/conda/lib/python3.11/site-packages/ruptures/costs/costnormal.py:27: UserWarning: New behaviour in v1.1.5: a small bias is added to the covariance matrix to cope with truly constant segments (see PR#198).\n",
      "  warnings.warn(\n"
     ]
    },
    {
     "name": "stdout",
     "output_type": "stream",
     "text": [
      "              Time   Latitude  Longitude Source/Sink\n",
      "0       2003-06-04  40.577145 -18.722847    increase\n",
      "1       2003-06-04  40.577145 -17.719101        none\n",
      "2       2003-06-04  40.577145 -17.217228        none\n",
      "3       2003-06-04  40.577145 -16.715355    decrease\n",
      "4       2003-06-04  40.577145 -16.213484    decrease\n",
      "...            ...        ...        ...         ...\n",
      "201827  2003-09-01  69.994286  -6.426966    decrease\n",
      "201828  2003-09-01  69.994286  -2.913858    increase\n",
      "201829  2003-09-01  69.994286  -2.411985        none\n",
      "201830  2003-09-01  69.994286  -1.910112    decrease\n",
      "201831  2003-09-01  69.994286  -1.408240    decrease\n",
      "\n",
      "[201832 rows x 4 columns]\n"
     ]
    }
   ],
   "source": [
    "bkps_nor = changepoints(\"bottomup\", input, \"normal\", 2)\n",
    "\n",
    "flat_index = get_1d_index(input, bkps_nor)\n",
    "index = get_3d_index(flat_index, variable.shape)\n",
    "time, lat, lon = get_coords(index, ds)\n",
    "source_sink = sourcesink(input, bkps_nor, 2)\n",
    "change_point_data = {'Time': time, 'Latitude': lat, 'Longitude': lon, 'Source/Sink': source_sink}\n",
    "df_bu_nor = pd.DataFrame(change_point_data)\n",
    "print(df_bu_nor)"
   ]
  },
  {
   "cell_type": "code",
   "execution_count": 253,
   "id": "2a3cc25a-d1df-4696-99ca-05451fbc5ab8",
   "metadata": {},
   "outputs": [
    {
     "name": "stdout",
     "output_type": "stream",
     "text": [
      "             Time   Latitude  Longitude Source/Sink\n",
      "0      2003-06-04  40.577145 -17.719101        none\n",
      "1      2003-06-04  40.577145 -16.213484    decrease\n",
      "2      2003-06-04  40.577145  -5.674157    increase\n",
      "3      2003-06-04  53.148571 -17.468164    decrease\n",
      "4      2003-06-04  53.148571  -6.928839    increase\n",
      "...           ...        ...        ...         ...\n",
      "31228  2003-09-01  69.742859  33.471909    increase\n",
      "31229  2003-09-01  69.742859  34.977528    increase\n",
      "31230  2003-09-01  69.742859  36.483147    decrease\n",
      "31231  2003-09-01  69.994286  -8.434457    increase\n",
      "31232  2003-09-01  69.994286  -6.928839    decrease\n",
      "\n",
      "[31233 rows x 4 columns]\n"
     ]
    }
   ],
   "source": [
    "bkps_ar = changepoints(\"bottomup\", input, \"ar\", 2)\n",
    "\n",
    "flat_index = get_1d_index(input, bkps_ar)\n",
    "index = get_3d_index(flat_index, variable.shape)\n",
    "time, lat, lon = get_coords(index, ds)\n",
    "source_sink = sourcesink(input, bkps_ar, 2)\n",
    "change_point_data = {'Time': time, 'Latitude': lat, 'Longitude': lon, 'Source/Sink': source_sink}\n",
    "df_bu_ar = pd.DataFrame(change_point_data)\n",
    "print(df_bu_ar)"
   ]
  },
  {
   "cell_type": "markdown",
   "id": "833423bf-8dcb-4108-8f6b-35ce15acf1ac",
   "metadata": {},
   "source": [
    "### PELT"
   ]
  },
  {
   "cell_type": "code",
   "execution_count": 28,
   "id": "91d0177c-e640-41d5-959b-57bd4deb9bfb",
   "metadata": {},
   "outputs": [
    {
     "name": "stdout",
     "output_type": "stream",
     "text": [
      "             Time   Latitude  Longitude SourceSink        CC\n",
      "0      2003-06-04  40.577145 -18.722847   increase  1.000000\n",
      "1      2003-06-04  40.577145 -16.715355   decrease  0.974960\n",
      "2      2003-06-04  40.577145  -6.176030   increase  0.000000\n",
      "3      2003-06-04  40.577145  -4.670412   decrease  0.000000\n",
      "4      2003-06-04  40.577145  -3.164794   increase  1.000000\n",
      "...           ...        ...        ...        ...       ...\n",
      "59427  2003-09-01  69.742859  36.483147   decrease  0.992906\n",
      "59428  2003-09-01  69.994286  -8.434457   increase  0.986869\n",
      "59429  2003-09-01  69.994286  -6.928839   decrease  0.992906\n",
      "59430  2003-09-01  69.994286  -2.913858   increase  1.000000\n",
      "59431  2003-09-01  69.994286  -1.910112   decrease  0.993286\n",
      "\n",
      "[59432 rows x 5 columns]\n"
     ]
    }
   ],
   "source": [
    "bkps_l1 = changepoints(\"pelt\", input, \"l1\", 2)\n",
    "\n",
    "flat_index = get_1d_index(input, bkps_l1)\n",
    "index = get_3d_index(flat_index, variable.shape)\n",
    "time, lat, lon = get_coords(index, ds)\n",
    "source_sink = sourcesink(input, bkps_l1, 2)\n",
    "value = variable_value(input, bkps_l1)\n",
    "change_point_data = {'Time': time, 'Latitude': lat, 'Longitude': lon, 'SourceSink': source_sink, 'CC': value}\n",
    "df_p_l1 = pd.DataFrame(change_point_data)\n",
    "print(df_p_l1)"
   ]
  },
  {
   "cell_type": "code",
   "execution_count": 29,
   "id": "2456ce8b-2c53-4992-a1f2-a38fe9f10a2f",
   "metadata": {},
   "outputs": [
    {
     "name": "stdout",
     "output_type": "stream",
     "text": [
      "             Time   Latitude  Longitude SourceSink   CC\n",
      "0      2003-06-04  40.577145 -18.722847   increase  1.0\n",
      "1      2003-06-04  40.577145 -16.213484   decrease  0.0\n",
      "2      2003-06-04  40.577145  -6.176030   increase  0.0\n",
      "3      2003-06-04  40.577145  -4.670412   decrease  0.0\n",
      "4      2003-06-04  40.577145  -3.164794   increase  1.0\n",
      "...           ...        ...        ...        ...  ...\n",
      "41347  2003-09-01  69.742859  29.456928   decrease  0.0\n",
      "41348  2003-09-01  69.742859  33.471909   increase  1.0\n",
      "41349  2003-09-01  69.742859  36.985020   decrease  0.0\n",
      "41350  2003-09-01  69.994286  -8.936330   increase  0.0\n",
      "41351  2003-09-01  69.994286  -6.426966   decrease  0.0\n",
      "\n",
      "[41352 rows x 5 columns]\n"
     ]
    }
   ],
   "source": [
    "bkps_l2 = changepoints(\"binseg\", input, \"l2\", 2)\n",
    "\n",
    "flat_index = get_1d_index(input, bkps_l2)\n",
    "index = get_3d_index(flat_index, variable.shape)\n",
    "time, lat, lon = get_coords(index, ds)\n",
    "source_sink = sourcesink(input, bkps_l2, 2)\n",
    "value = variable_value(input, bkps_l2)\n",
    "change_point_data = {'Time': time, 'Latitude': lat, 'Longitude': lon, 'SourceSink': source_sink, 'CC': value}\n",
    "df_p_l2 = pd.DataFrame(change_point_data)\n",
    "print(df_p_l2)"
   ]
  },
  {
   "cell_type": "code",
   "execution_count": 30,
   "id": "79afbc89-e8bd-40bd-9388-42e82fb68e53",
   "metadata": {},
   "outputs": [
    {
     "name": "stdout",
     "output_type": "stream",
     "text": [
      "             Time   Latitude  Longitude SourceSink   CC\n",
      "0      2003-06-04  40.577145 -18.722847   increase  1.0\n",
      "1      2003-06-04  40.577145 -16.213484   decrease  0.0\n",
      "2      2003-06-04  40.577145  -6.176030   increase  0.0\n",
      "3      2003-06-04  40.577145  -4.670412   decrease  0.0\n",
      "4      2003-06-04  40.577145  -3.164794   increase  1.0\n",
      "...           ...        ...        ...        ...  ...\n",
      "56696  2003-09-01  69.742859  36.985020   decrease  0.0\n",
      "56697  2003-09-01  69.994286  -8.936330   increase  0.0\n",
      "56698  2003-09-01  69.994286  -6.426966   decrease  0.0\n",
      "56699  2003-09-01  69.994286  -2.913858   increase  1.0\n",
      "56700  2003-09-01  69.994286  -1.408240   decrease  0.0\n",
      "\n",
      "[56701 rows x 5 columns]\n"
     ]
    }
   ],
   "source": [
    "bkps_rbf = changepoints(\"binseg\", input, \"rbf\", 2)\n",
    "\n",
    "flat_index = get_1d_index(input, bkps_rbf)\n",
    "index = get_3d_index(flat_index, variable.shape)\n",
    "time, lat, lon = get_coords(index, ds)\n",
    "source_sink = sourcesink(input, bkps_rbf, 2)\n",
    "value = variable_value(input, bkps_rbf)\n",
    "change_point_data = {'Time': time, 'Latitude': lat, 'Longitude': lon, 'SourceSink': source_sink, 'CC': value}\n",
    "df_p_rbf = pd.DataFrame(change_point_data)\n",
    "print(df_p_rbf)"
   ]
  },
  {
   "cell_type": "markdown",
   "id": "fb852738-00b8-4f68-b1f7-fd8b2f24f3bd",
   "metadata": {},
   "source": [
    "## Reduced dataset\n",
    "\n",
    "Reduce the dataset to the daily CC average over the entire grid. Next, perform change point detection on the reduced dataset to identify change days. Next the complete CC dataset for 2003 can be reduced to the days found in the previous step. On this data change point detection can again be performed to identify change points (locations)."
   ]
  },
  {
   "cell_type": "code",
   "execution_count": 31,
   "id": "4a916cea-a9dd-438f-b5b1-2fb5a831db5d",
   "metadata": {},
   "outputs": [],
   "source": [
    "daily_average = []\n",
    "\n",
    "for i in range(ds.sizes['time']):\n",
    "    # Select data for the chosen day\n",
    "    daily_data = ds.isel(time=i)\n",
    "\n",
    "    # Calculate the average across all latitudes and longitudes\n",
    "    average_value = daily_data.mean(dim=(\"lat\", \"lon\"))\n",
    "\n",
    "    value = average_value.CC.values\n",
    "    \n",
    "    daily_average.append(float(value))"
   ]
  },
  {
   "cell_type": "markdown",
   "id": "cc4b44b0-97aa-4ce3-936e-2a92121240c2",
   "metadata": {},
   "source": [
    "### Binary segmentation"
   ]
  },
  {
   "cell_type": "code",
   "execution_count": null,
   "id": "e063fd35-a8bd-4c00-a7b8-02f0624ebcc7",
   "metadata": {},
   "outputs": [],
   "source": [
    "bkps_l1 = rpt.Binseg('l1').fit_predict(np.array(daily_average), n_bkps=4)\n",
    "print(bkps_l1)\n",
    "\n",
    "bkps_l2 = rpt.Binseg('l2').fit_predict(np.array(daily_average), n_bkps=4)\n",
    "print(bkps_l2)\n",
    "\n",
    "bkps_rbf = rpt.Binseg('rbf').fit_predict(np.array(daily_average), n_bkps=4)\n",
    "print(bkps_rbf)\n",
    "\n",
    "bkps_nor = rpt.Binseg('normal').fit_predict(np.array(daily_average), n_bkps=4)\n",
    "print(bkps_nor)\n",
    "\n",
    "bkps_ar = rpt.Binseg('ar').fit_predict(np.array(daily_average), n_bkps=4)\n",
    "print(bkps_ar)"
   ]
  },
  {
   "cell_type": "markdown",
   "id": "8bf4f5fc-2b38-4937-812c-75f2c84444eb",
   "metadata": {},
   "source": [
    "### Bottom up segmentation"
   ]
  },
  {
   "cell_type": "code",
   "execution_count": 2,
   "id": "5fcd3af7-cf49-4253-86ed-144167a5631e",
   "metadata": {},
   "outputs": [],
   "source": [
    "bkps_l1 = rpt.BottomUp('l1').fit_predict(np.array(daily_average), n_bkps=4)\n",
    "print(bkps_l1)\n",
    "\n",
    "bkps_l2 = rpt.BottomUp('l2').fit_predict(np.array(daily_average), n_bkps=4)\n",
    "print(bkps_l2)\n",
    "\n",
    "bkps_rbf = rpt.BottomUp('rbf').fit_predict(np.array(daily_average), n_bkps=4)\n",
    "print(bkps_rbf)"
   ]
  },
  {
   "cell_type": "markdown",
   "id": "21d09f8c-b300-4c5d-b6be-ea3505868823",
   "metadata": {},
   "source": [
    "### PELT"
   ]
  },
  {
   "cell_type": "code",
   "execution_count": null,
   "id": "048d544c-55cf-4426-b6e2-c42b95886389",
   "metadata": {},
   "outputs": [],
   "source": [
    "bkps_l1 = rpt.Pelt('l1').fit_predict(np.array(daily_average), pen=4)\n",
    "print(bkps_l1)\n",
    "\n",
    "bkps_l2 = rpt.Pelt('l2').fit_predict(np.array(daily_average), pen=4)\n",
    "print(bkps_l2)\n",
    "\n",
    "bkps_rbf = rpt.Pelt('rbf').fit_predict(np.array(daily_average), pen=4)\n",
    "print(bkps_rbf)"
   ]
  },
  {
   "cell_type": "markdown",
   "id": "23b55456-e5dd-4a1b-967d-7c89e43f490b",
   "metadata": {},
   "source": [
    "### Visualize results"
   ]
  },
  {
   "cell_type": "code",
   "execution_count": null,
   "id": "adc5b513-24e1-4398-af44-88fb4dfe7574",
   "metadata": {},
   "outputs": [],
   "source": [
    "plt.plot(daily_average)\n",
    "plt.axvline(5, color='red')\n",
    "plt.axvline(10, color='red')\n",
    "plt.axvline(15, color='red')\n",
    "plt.axvline(30, color='red')\n",
    "plt.axvline(35, color='red')\n",
    "plt.axvline(45, color='red')\n",
    "plt.axvline(60, color='red')\n",
    "plt.axvline(65, color='red')\n",
    "plt.axvline(75, color='red')\n",
    "plt.axvline(80, color='red')\n",
    "plt.axvline(85, color='red')"
   ]
  },
  {
   "cell_type": "code",
   "execution_count": null,
   "id": "1733bf98-3d57-4305-9c83-0c876b5802cd",
   "metadata": {},
   "outputs": [],
   "source": []
  },
  {
   "cell_type": "code",
   "execution_count": null,
   "id": "00a793d6-8e29-4427-977a-de7b8fafdd01",
   "metadata": {},
   "outputs": [],
   "source": []
  },
  {
   "cell_type": "code",
   "execution_count": null,
   "id": "138cf6b9-416d-4a5d-8ba1-f852fd4ed587",
   "metadata": {},
   "outputs": [],
   "source": []
  }
 ],
 "metadata": {
  "kernelspec": {
   "display_name": "Python 3 (ipykernel)",
   "language": "python",
   "name": "python3"
  },
  "language_info": {
   "codemirror_mode": {
    "name": "ipython",
    "version": 3
   },
   "file_extension": ".py",
   "mimetype": "text/x-python",
   "name": "python",
   "nbconvert_exporter": "python",
   "pygments_lexer": "ipython3",
   "version": "3.11.8"
  }
 },
 "nbformat": 4,
 "nbformat_minor": 5
}
