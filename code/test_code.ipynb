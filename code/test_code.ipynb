{
 "cells": [
  {
   "cell_type": "code",
   "execution_count": 10,
   "id": "467a6267-3c96-4319-80e3-34cd65ca1e91",
   "metadata": {},
   "outputs": [],
   "source": [
    "test = []\n",
    "\n",
    "for i in range(3):\n",
    "    for j in range(3):\n",
    "        list = []\n",
    "        for k in range(3):\n",
    "            list.append((i,j,k))\n",
    "        test.append(list)"
   ]
  },
  {
   "cell_type": "code",
   "execution_count": 9,
   "id": "afde54db-8cc9-4187-b4c5-c8fcb03fa835",
   "metadata": {},
   "outputs": [
    {
     "name": "stdout",
     "output_type": "stream",
     "text": [
      "[[(0, 0, 0), (0, 0, 1), (0, 0, 2)], [(0, 1, 0), (0, 1, 1), (0, 1, 2)], [(0, 2, 0), (0, 2, 1), (0, 2, 2)], [(1, 0, 0), (1, 0, 1), (1, 0, 2)], [(1, 1, 0), (1, 1, 1), (1, 1, 2)], [(1, 2, 0), (1, 2, 1), (1, 2, 2)], [(2, 0, 0), (2, 0, 1), (2, 0, 2)], [(2, 1, 0), (2, 1, 1), (2, 1, 2)], [(2, 2, 0), (2, 2, 1), (2, 2, 2)]]\n"
     ]
    }
   ],
   "source": [
    "print(test)"
   ]
  },
  {
   "cell_type": "code",
   "execution_count": 12,
   "id": "7b0bc199-d13f-405c-82f0-2b8b6d356a75",
   "metadata": {},
   "outputs": [
    {
     "name": "stdout",
     "output_type": "stream",
     "text": [
      "   0  1  2\n",
      "0  1  2  3\n",
      "1  4  5  6\n",
      "2  7  8  9\n"
     ]
    }
   ],
   "source": [
    "import pandas as pd\n",
    "\n",
    "# Sample list of lists\n",
    "data = [\n",
    "    [1, 2, 3],\n",
    "    [4, 5, 6],\n",
    "    [7, 8, 9],\n",
    "]\n",
    "\n",
    "# Create DataFrame with one column\n",
    "df = pd.DataFrame(data)\n",
    "\n",
    "# # Optional: Name the column (default is 0)\n",
    "# df.columns = [\"list_data\"]\n",
    "\n",
    "print(df)\n"
   ]
  },
  {
   "cell_type": "code",
   "execution_count": 14,
   "id": "36df3a11-f81d-467b-a9ae-e205b55c860f",
   "metadata": {},
   "outputs": [
    {
     "data": {
      "text/plain": [
       "[4, 5, 6]"
      ]
     },
     "execution_count": 14,
     "metadata": {},
     "output_type": "execute_result"
    }
   ],
   "source": [
    "df.iloc[1].tolist()"
   ]
  },
  {
   "cell_type": "code",
   "execution_count": 15,
   "id": "3efaf593-7054-45ee-9a58-106847a2aea7",
   "metadata": {},
   "outputs": [
    {
     "ename": "TypeError",
     "evalue": "'list' object is not callable",
     "output_type": "error",
     "traceback": [
      "\u001b[0;31m---------------------------------------------------------------------------\u001b[0m",
      "\u001b[0;31mTypeError\u001b[0m                                 Traceback (most recent call last)",
      "Cell \u001b[0;32mIn[15], line 5\u001b[0m\n\u001b[1;32m      1\u001b[0m \u001b[38;5;28;01mimport\u001b[39;00m \u001b[38;5;21;01mnumpy\u001b[39;00m \u001b[38;5;28;01mas\u001b[39;00m \u001b[38;5;21;01mnp\u001b[39;00m\n\u001b[1;32m      3\u001b[0m lst \u001b[38;5;241m=\u001b[39m [[\u001b[38;5;241m11\u001b[39m, \u001b[38;5;241m33\u001b[39m], [\u001b[38;5;241m22\u001b[39m, \u001b[38;5;241m55\u001b[39m], [\u001b[38;5;241m11\u001b[39m], [\u001b[38;5;241m77\u001b[39m, \u001b[38;5;241m88\u001b[39m]]\n\u001b[0;32m----> 5\u001b[0m new \u001b[38;5;241m=\u001b[39m \u001b[38;5;28;43mlist\u001b[39;49m\u001b[43m(\u001b[49m\u001b[43mnp\u001b[49m\u001b[38;5;241;43m.\u001b[39;49m\u001b[43mconcatenate\u001b[49m\u001b[43m(\u001b[49m\u001b[43mlst\u001b[49m\u001b[43m)\u001b[49m\u001b[43m)\u001b[49m\n\u001b[1;32m      7\u001b[0m \u001b[38;5;28mprint\u001b[39m(new)\n",
      "\u001b[0;31mTypeError\u001b[0m: 'list' object is not callable"
     ]
    }
   ],
   "source": [
    "\n",
    "import numpy as np\n",
    " \n",
    "lst = [[11, 33], [22, 55], [11], [77, 88]]\n",
    " \n",
    "new = list(np.concatenate(lst))\n",
    " \n",
    "print(new)"
   ]
  },
  {
   "cell_type": "code",
   "execution_count": 16,
   "id": "1e50a8b4-b103-43df-87b2-3264ad90c140",
   "metadata": {},
   "outputs": [
    {
     "data": {
      "text/plain": [
       "array([11, 33, 22, 55, 11, 77, 88])"
      ]
     },
     "execution_count": 16,
     "metadata": {},
     "output_type": "execute_result"
    }
   ],
   "source": [
    "np.concatenate(lst)"
   ]
  },
  {
   "cell_type": "code",
   "execution_count": 17,
   "id": "e48fb608-74b8-4e63-ba34-5efefacdb884",
   "metadata": {},
   "outputs": [
    {
     "name": "stdout",
     "output_type": "stream",
     "text": [
      "Flattened index: 7\n",
      "2D Index: (1, 3) (row 1, column 3)\n"
     ]
    }
   ],
   "source": [
    "import numpy as np\n",
    "\n",
    "# Sample 2D array\n",
    "arr = np.array([[1, 2, 3, 4],\n",
    "                [5, 6, 7, 8],\n",
    "                [9, 10, 11, 12]])\n",
    "\n",
    "# Flattened index\n",
    "flat_idx = 7\n",
    "\n",
    "# Get 2D index using unravel_index\n",
    "unraveled_index = np.unravel_index(flat_idx, arr.shape)\n",
    "\n",
    "print(f\"Flattened index: {flat_idx}\")\n",
    "print(f\"2D Index: {unraveled_index} (row {unraveled_index[0]}, column {unraveled_index[1]})\")\n"
   ]
  },
  {
   "cell_type": "code",
   "execution_count": 29,
   "id": "06629921-b2b4-4168-8fca-5b382452f8a7",
   "metadata": {},
   "outputs": [
    {
     "name": "stdout",
     "output_type": "stream",
     "text": [
      "1\n",
      "1\n",
      "1\n",
      "1\n",
      "1\n",
      "1\n",
      "1\n",
      "1\n"
     ]
    }
   ],
   "source": [
    "def get_3d_indices(data):\n",
    "  \"\"\"\n",
    "  Finds 3D indices for elements within a list of lists with uneven lengths.\n",
    "\n",
    "  Args:\n",
    "      data: A list of lists representing the data structure.\n",
    "\n",
    "  Returns:\n",
    "      A list of tuples containing the 3D index (outer list index, sublist index, flat index)\n",
    "      for each element.\n",
    "  \"\"\"\n",
    "  flat_index = 0\n",
    "  indices = []\n",
    "  for i, sublist in enumerate(data):\n",
    "      # print(i)\n",
    "      for j, value in enumerate(sublist):\n",
    "          if value != 9:\n",
    "              print(1)\n",
    "              indices.append((i, j, flat_index))\n",
    "              flat_index += 1\n",
    "  return indices\n",
    "\n",
    "# Sample list of lists\n",
    "data = [[1, 2, 3], [4, 5], [6, 7, 8, 9]]\n",
    "\n",
    "all_indices = get_3d_indices(data)\n",
    "\n",
    "# Each element in data can be accessed using its corresponding 3D index from all_indices\n"
   ]
  },
  {
   "cell_type": "code",
   "execution_count": 30,
   "id": "d8895bd1-8bb9-497e-bd26-58f5e7a62051",
   "metadata": {},
   "outputs": [
    {
     "name": "stdout",
     "output_type": "stream",
     "text": [
      "[(0, 0, 0), (0, 1, 1), (0, 2, 2), (1, 0, 3), (1, 1, 4), (2, 0, 5), (2, 1, 6), (2, 2, 7)]\n"
     ]
    }
   ],
   "source": [
    "print(all_indices)"
   ]
  },
  {
   "cell_type": "code",
   "execution_count": null,
   "id": "2a9c37b0-58f4-43d7-861d-c36542e7f4dd",
   "metadata": {},
   "outputs": [],
   "source": [
    "def calculate_flat_index(shape, i, j):\n",
    "  \"\"\"\n",
    "  Calculates the flat index from original shape and loop counters.\n",
    "\n",
    "  Args:\n",
    "      shape (tuple of ints): The original shape of the 3D NumPy array.\n",
    "      i (int): The outer loop counter (potential row index).\n",
    "      j (int): The inner loop counter (potential column index).\n",
    "\n",
    "  Returns:\n",
    "      int: The calculated flat index based on the original shape and counters.\n",
    "  \"\"\"\n",
    "  # Implement logic based on your array's layout (e.g., row-major vs column-major)\n",
    "  # This example assumes row-major order\n",
    "  return i * shape[1] + j\n",
    "\n",
    "\n",
    "import numpy as np\n",
    "\n",
    "# Sample original array (replace with your data and shape)\n",
    "original_array = np.array([[[1, 2], [3, 4]], [[5, 6], [7, 8]]])\n",
    "original_shape = original_array.shape  # Remember the original shape\n",
    "\n",
    "# Flatten the array (assuming you already have this)\n",
    "flattened_list = original_array.flatten().tolist()\n",
    "\n",
    "# Target value to search for\n",
    "target_value = 6\n",
    "\n",
    "# Loop through flattened list\n",
    "for i, sublist in enumerate(flattened_list):\n",
    "  for j, value in enumerate(sublist):\n",
    "    if value == target_value:\n",
    "      flat_index = calculate_flat_index(original_shape, i, j)\n",
    "      # Unravel the flat index to get 3D coordinates (optional)\n",
    "      # unraveled_index = np.unravel_index(flat_index, original_shape)  # Optional\n",
    "      print(f\"3D Index: (row {i}, column {j}, flat index {flat_index})\")\n",
    "      break  # Stop after finding the first occurrence (adjust if needed)\n"
   ]
  },
  {
   "cell_type": "code",
   "execution_count": 37,
   "id": "8417666c-7697-43fa-b42e-3e3b527c6da6",
   "metadata": {},
   "outputs": [],
   "source": [
    "import netCDF4 as nc\n",
    "import xarray as xr\n",
    "import glob\n",
    "import pandas as pd\n",
    "import os\n",
    "# from itertools import zip_longest\n",
    "import numpy as np\n",
    "# import seaborn as sns\n",
    "# import cartopy.crs as ccrs\n",
    "# import matplotlib.pyplot as plt\n",
    "# import cartopy.feature as cf\n",
    "import ruptures as rpt\n",
    "# from datetime import datetime\n",
    "import pymannkendall as mk\n",
    "\n",
    "# Load your NetCDF file and variable\n",
    "data = nc.Dataset('data/cc_2003.nc')\n",
    "variable = data['CC']\n",
    "ds = xr.open_dataset('data/cc_2003.nc')\n",
    "# input = flatten(np.array(variable))"
   ]
  },
  {
   "cell_type": "code",
   "execution_count": 38,
   "id": "5d8495d1-9b5d-4f31-abad-990f47fdc2d1",
   "metadata": {},
   "outputs": [],
   "source": [
    "def flatten(data, ds):\n",
    "    flat_data = []\n",
    "    for i in range(data.shape[2]):\n",
    "        for j in range(data.shape[1]):\n",
    "            node = []\n",
    "            for k in range(data.shape[0]):\n",
    "                node.append((data[k][j][i], ds['lon'].values[i], ds['lat'].values[j], ds['time'].values[k]))\n",
    "            flat_data.append(node)\n",
    "    return flat_data"
   ]
  },
  {
   "cell_type": "code",
   "execution_count": 41,
   "id": "7f1f8b80-a175-48b2-8cdc-673cf6e1032a",
   "metadata": {},
   "outputs": [],
   "source": [
    "test = flatten(np.array(variable), ds)"
   ]
  },
  {
   "cell_type": "code",
   "execution_count": 44,
   "id": "436fd09f-5c34-4223-bbd2-179f061082e7",
   "metadata": {},
   "outputs": [
    {
     "name": "stdout",
     "output_type": "stream",
     "text": [
      "0.0\n"
     ]
    }
   ],
   "source": [
    "print(test[0][0][0])"
   ]
  },
  {
   "cell_type": "code",
   "execution_count": 48,
   "id": "72e826ee-108f-4499-b83c-cdfe92bf3a4a",
   "metadata": {},
   "outputs": [
    {
     "name": "stdout",
     "output_type": "stream",
     "text": [
      "Original Indices: [(2, 5), (1, 4), (2, 5), (2, 7)]\n"
     ]
    }
   ],
   "source": [
    "def find_original_indices(original_data, reduced_data):\n",
    "  \"\"\"\n",
    "  Finds the original indices of elements in a reduced list of lists.\n",
    "\n",
    "  Args:\n",
    "      original_data: The original list of lists.\n",
    "      reduced_data: The reduced list of lists.\n",
    "\n",
    "  Returns:\n",
    "      A list of tuples containing the original sublist index and overall index\n",
    "      for each element in the reduced list.\n",
    "  \"\"\"\n",
    "  element_indices = {}  # Map element to (sublist index, overall index)\n",
    "  overall_index = 0\n",
    "  for i, sublist in enumerate(original_data):\n",
    "    for j, value in enumerate(sublist):\n",
    "      element_indices[value] = (i, overall_index)\n",
    "      overall_index += 1\n",
    "\n",
    "  original_indexes = []\n",
    "  for sublist in reduced_data:\n",
    "    for value in sublist:\n",
    "      original_indexes.append(element_indices.get(value))\n",
    "  return original_indexes\n",
    "\n",
    "# Sample data (replace with yours)\n",
    "original_data = [[1, 2, 3], [1, 5], [1, 7, 8, 9]]\n",
    "reduced_data = [[1], [5], [1, 8]]\n",
    "\n",
    "original_indices = find_original_indices(original_data, reduced_data)\n",
    "\n",
    "print(f\"Original Indices: {original_indices}\")\n"
   ]
  },
  {
   "cell_type": "code",
   "execution_count": 52,
   "id": "1777fdd0-a862-41e0-9045-ad6a846f7315",
   "metadata": {},
   "outputs": [
    {
     "name": "stdout",
     "output_type": "stream",
     "text": [
      "Element 1: Original Index (sublist, row, column) - (2, 2, 0)\n",
      "Element 5: Original Index (sublist, row, column) - (1, 0, 1)\n",
      "Element 1: Original Index (sublist, row, column) - (2, 2, 0)\n",
      "Element 8: Original Index (sublist, row, column) - (2, 2, 0)\n"
     ]
    }
   ],
   "source": [
    "import numpy as np\n",
    "\n",
    "# Sample original array (replace with your data and shape)\n",
    "original_array = np.array([[[1, 2], [3, 4]], [[5, 1], [6, 7]], [[8, 8], [9, 5]]])\n",
    "original_shape = original_array.shape  # Remember the original shape\n",
    "\n",
    "# Flatten the array (assuming you already have this)\n",
    "original_flattened_data = [[1, 2, 3], [4, 5], [1, 7, 8, 9]]\n",
    "\n",
    "# Reduced list of lists (assuming you have this)\n",
    "reduced_data = [[1], [5], [1, 8]]\n",
    "\n",
    "# Initialize dictionaries\n",
    "element_indices = {}\n",
    "element_count = {}\n",
    "\n",
    "# Loop through original flattened data with tracking\n",
    "for i, sublist in enumerate(original_flattened_data):\n",
    "  for value in sublist:\n",
    "    if value not in element_count:\n",
    "      element_count[value] = 0\n",
    "      element_indices[value] = []\n",
    "    element_count[value] += 1\n",
    "    flat_index = i * len(sublist) + sublist.index(value)  # Calculate flat index\n",
    "    row_index = flat_index // (original_shape[1] * original_shape[2])\n",
    "    col_index = flat_index % (original_shape[1])\n",
    "    element_indices[value].append((i, row_index, col_index))\n",
    "\n",
    "# Find indices for reduced data\n",
    "for sublist in reduced_data:\n",
    "  for value in sublist:\n",
    "    original_indexes = element_indices[value]\n",
    "    count = element_count[value] - 1  # Adjust count for position within reduced sublist\n",
    "    original_index = original_indexes[count]\n",
    "    print(f\"Element {value}: Original Index (sublist, row, column) - {original_index}\")\n"
   ]
  },
  {
   "cell_type": "code",
   "execution_count": 50,
   "id": "667e60e0-4cf8-4bc7-a807-9782e0dc1b93",
   "metadata": {},
   "outputs": [
    {
     "data": {
      "text/plain": [
       "[1, 2, 3, 4, 5, 1, 6, 7, 8, 8, 9, 5]"
      ]
     },
     "execution_count": 50,
     "metadata": {},
     "output_type": "execute_result"
    }
   ],
   "source": [
    "original_flattened_data"
   ]
  },
  {
   "cell_type": "code",
   "execution_count": 53,
   "id": "2126b17f-35a0-4d01-9ab7-4d5f51ebb69e",
   "metadata": {},
   "outputs": [
    {
     "name": "stdout",
     "output_type": "stream",
     "text": [
      "Element 1: Original Index (sublist, row, column) - (2, 2, 0)\n",
      "Element 5: Original Index (sublist, row, column) - (1, 0, 1)\n",
      "Element 1: Original Index (sublist, row, column) - (2, 2, 0)\n",
      "Element 8: Original Index (sublist, row, column) - (2, 2, 0)\n"
     ]
    }
   ],
   "source": [
    "import numpy as np\n",
    "\n",
    "# Sample original array (replace with your data and shape)\n",
    "original_array = np.array([[[1, 2], [3, 4]], [[5, 1], [6, 7]], [[8, 8], [9, 1]]])\n",
    "original_shape = original_array.shape  # Remember the original shape\n",
    "\n",
    "# Flatten the array (assuming you already have this)\n",
    "original_flattened_data = [[1, 2, 3], [4, 5], [1, 7, 8, 9]]\n",
    "\n",
    "# Reduced list of lists (assuming you have this)\n",
    "reduced_data = [[1], [5], [1, 8]]\n",
    "\n",
    "# Initialize dictionaries\n",
    "element_indices = {}\n",
    "element_count = {}\n",
    "\n",
    "# Loop through original flattened data with tracking\n",
    "for i, sublist in enumerate(original_flattened_data):\n",
    "  for value in sublist:\n",
    "    if value not in element_count:\n",
    "      element_count[value] = 0\n",
    "      element_indices[value] = []\n",
    "    element_count[value] += 1\n",
    "    flat_index = i * len(sublist) + sublist.index(value)  # Calculate flat index\n",
    "    row_index = flat_index // (original_shape[1] * original_shape[2])\n",
    "    col_index = flat_index % (original_shape[1])\n",
    "    element_indices[value].append((i, row_index, col_index))\n",
    "\n",
    "# Find indices for reduced data\n",
    "for sublist in reduced_data:\n",
    "  for value in sublist:\n",
    "    original_indexes = element_indices[value]\n",
    "    count = element_count[value] - 1  # Adjust count for position within reduced sublist\n",
    "    # Consider potential edge cases with count exceeding the length of original_indexes\n",
    "    if count >= len(original_indexes):\n",
    "        print(f\"Element {value}: Not enough occurrences in the original flattened list.\")\n",
    "    else:\n",
    "        original_index = original_indexes[count]\n",
    "        print(f\"Element {value}: Original Index (sublist, row, column) - {original_index}\")\n"
   ]
  },
  {
   "cell_type": "code",
   "execution_count": null,
   "id": "0e1c78be-128f-4688-94df-c0b11eca9a2a",
   "metadata": {},
   "outputs": [],
   "source": [
    "for i in range(original):\n",
    "    "
   ]
  },
  {
   "cell_type": "code",
   "execution_count": 54,
   "id": "c0943970-c8e3-4a51-ad67-3b426cb71ce4",
   "metadata": {},
   "outputs": [
    {
     "name": "stdout",
     "output_type": "stream",
     "text": [
      "[0, 1, 2, 3, 4, 5, 6, 7, 8]\n"
     ]
    }
   ],
   "source": [
    "def get_flat_index(data):\n",
    "  \"\"\"\n",
    "  Calculates the flat index for each element in a list of lists.\n",
    "\n",
    "  Args:\n",
    "      data: A list of lists representing the data structure.\n",
    "\n",
    "  Returns:\n",
    "      A list containing the flat index for each element in the input data.\n",
    "  \"\"\"\n",
    "  flat_index = 0\n",
    "  flat_list = []\n",
    "  for sublist in data:\n",
    "    for value in sublist:\n",
    "      flat_list.append(flat_index)\n",
    "      flat_index += 1\n",
    "  return flat_list\n",
    "\n",
    "# Sample list of lists\n",
    "data = [[1, 2, 3], [1, 2, 3], [1, 2, 3]]\n",
    "\n",
    "flat_indices = get_flat_index(data)\n",
    "\n",
    "print(flat_indices)\n"
   ]
  },
  {
   "cell_type": "code",
   "execution_count": 55,
   "id": "72bc81ef-53a3-448f-a09f-a13795ce5b2f",
   "metadata": {},
   "outputs": [
    {
     "name": "stdout",
     "output_type": "stream",
     "text": [
      "[0, 2, 4]\n"
     ]
    }
   ],
   "source": [
    "def get_reduced_list_indices(original_data, reduced_data):\n",
    "  \"\"\"\n",
    "  Finds the indices of the reduced list of lists in a flattened original list.\n",
    "\n",
    "  Args:\n",
    "      original_data: The original list of lists (flattened).\n",
    "      reduced_data: The reduced list of lists.\n",
    "\n",
    "  Returns:\n",
    "      A list containing the flat index for each element in the reduced list.\n",
    "  \"\"\"\n",
    "  flat_indices = []\n",
    "  current_index = 0\n",
    "  for sublist in reduced_data:\n",
    "    # Check if sublist is empty (avoid IndexError)\n",
    "    if not sublist:\n",
    "      continue\n",
    "    # Find the first element of the sublist in the original flattened data\n",
    "    first_element_index = original_data.index(sublist[0], current_index)\n",
    "    # Check if all elements in the sublist match the original data starting from the found index\n",
    "    all_match = True\n",
    "    for i, value in enumerate(sublist):\n",
    "      if first_element_index + i >= len(original_data) or original_data[first_element_index + i] != value:\n",
    "        all_match = False\n",
    "        break\n",
    "    # If all elements match, update current index and add flat index\n",
    "    if all_match:\n",
    "      flat_indices.append(first_element_index)\n",
    "      current_index = first_element_index + 1\n",
    "  return flat_indices\n",
    "\n",
    "# Sample data (replace with yours)\n",
    "original_data = [1, 2, 3, 1, 2, 3, 1, 2, 3]  # Flattened original list\n",
    "reduced_data = [[1, 2], [3], [2]]\n",
    "\n",
    "reduced_list_indices = get_reduced_list_indices(original_data, reduced_data)\n",
    "\n",
    "print(reduced_list_indices)\n"
   ]
  },
  {
   "cell_type": "code",
   "execution_count": 56,
   "id": "9f22718d-9677-4338-9f02-70f2d12317cd",
   "metadata": {},
   "outputs": [
    {
     "data": {
      "text/plain": [
       "[array([0, 1, 2, 3, 4]),\n",
       " array([5, 6, 7, 8, 9]),\n",
       " array([10, 11, 12, 13, 14]),\n",
       " array([15, 16, 17, 18, 19]),\n",
       " array([20, 21, 22, 23, 24]),\n",
       " array([25, 26, 27, 28, 29]),\n",
       " array([30, 31, 32, 33, 34]),\n",
       " array([35, 36, 37, 38, 39]),\n",
       " array([40, 41, 42, 43, 44]),\n",
       " array([45, 46, 47, 48, 49]),\n",
       " array([50, 51, 52, 53, 54]),\n",
       " array([55, 56, 57, 58, 59]),\n",
       " array([60, 61, 62, 63, 64]),\n",
       " array([65, 66, 67, 68, 69]),\n",
       " array([70, 71, 72, 73, 74]),\n",
       " array([75, 76, 77, 78, 79]),\n",
       " array([80, 81, 82, 83, 84]),\n",
       " array([85, 86, 87, 88, 89]),\n",
       " array([90, 91, 92, 93, 94]),\n",
       " array([95, 96, 97, 98, 99])]"
      ]
     },
     "execution_count": 56,
     "metadata": {},
     "output_type": "execute_result"
    }
   ],
   "source": [
    "data = range(95*len(input))\n",
    "\n",
    "np.array_split(np.array(data), 20)"
   ]
  }
 ],
 "metadata": {
  "kernelspec": {
   "display_name": "Python 3 (ipykernel)",
   "language": "python",
   "name": "python3"
  },
  "language_info": {
   "codemirror_mode": {
    "name": "ipython",
    "version": 3
   },
   "file_extension": ".py",
   "mimetype": "text/x-python",
   "name": "python",
   "nbconvert_exporter": "python",
   "pygments_lexer": "ipython3",
   "version": "3.11.8"
  }
 },
 "nbformat": 4,
 "nbformat_minor": 5
}
