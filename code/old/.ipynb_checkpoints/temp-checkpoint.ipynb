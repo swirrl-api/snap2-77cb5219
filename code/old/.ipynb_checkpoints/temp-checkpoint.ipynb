{
 "cells": [
  {
   "cell_type": "code",
   "execution_count": 1,
   "id": "47efaab0-4ea5-45b4-99ad-773e1be8d141",
   "metadata": {},
   "outputs": [],
   "source": [
    "import xarray as xr\n",
    "\n",
    "ds = xr.open_dataset('../private/original_dataset/tx_ens_mean_0.25deg_reg_v27.0e.nc')\n",
    "# df = ds.to_dataframe()"
   ]
  },
  {
   "cell_type": "code",
   "execution_count": 2,
   "id": "b3b1bb7a-0c4d-42ca-966d-7a269b6cdb8b",
   "metadata": {},
   "outputs": [
    {
     "name": "stdout",
     "output_type": "stream",
     "text": [
      "<xarray.Dataset> Size: 10GB\n",
      "Dimensions:    (latitude: 201, longitude: 464, time: 26663)\n",
      "Coordinates:\n",
      "  * latitude   (latitude) float64 2kB 25.38 25.62 25.88 ... 74.88 75.12 75.38\n",
      "  * longitude  (longitude) float64 4kB -40.38 -40.12 -39.88 ... 75.12 75.38\n",
      "  * time       (time) datetime64[ns] 213kB 1950-01-01 1950-01-02 ... 2022-12-31\n",
      "Data variables:\n",
      "    tx         (time, latitude, longitude) float32 10GB ...\n",
      "Attributes:\n",
      "    E-OBS_version:  27.0e\n",
      "    Conventions:    CF-1.4\n",
      "    References:     http://surfobs.climate.copernicus.eu/dataaccess/access_eo...\n",
      "    history:        Mon Apr  3 09:35:46 2023: ncks --no-abc -d time,0,26662 /...\n",
      "    NCO:            netCDF Operators version 4.7.5 (Homepage = http://nco.sf....\n"
     ]
    }
   ],
   "source": [
    "print(ds)"
   ]
  },
  {
   "cell_type": "code",
   "execution_count": 3,
   "id": "bbfcd694-6153-4493-a05e-dbfeedfba201",
   "metadata": {},
   "outputs": [
    {
     "data": {
      "text/plain": [
       "xarray.core.dataset.Dataset"
      ]
     },
     "execution_count": 3,
     "metadata": {},
     "output_type": "execute_result"
    }
   ],
   "source": [
    "type(ds)"
   ]
  }
 ],
 "metadata": {
  "kernelspec": {
   "display_name": "Python 3 (ipykernel)",
   "language": "python",
   "name": "python3"
  },
  "language_info": {
   "codemirror_mode": {
    "name": "ipython",
    "version": 3
   },
   "file_extension": ".py",
   "mimetype": "text/x-python",
   "name": "python",
   "nbconvert_exporter": "python",
   "pygments_lexer": "ipython3",
   "version": "3.11.8"
  }
 },
 "nbformat": 4,
 "nbformat_minor": 5
}
