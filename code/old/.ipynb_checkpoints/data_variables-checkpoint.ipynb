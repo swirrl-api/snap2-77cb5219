{
 "cells": [
  {
   "cell_type": "code",
   "execution_count": 1,
   "id": "365f3738-be14-4a97-9287-1c6cfbd1a7a4",
   "metadata": {},
   "outputs": [],
   "source": [
    "import netCDF4 as nc\n",
    "\n",
    "file_path = '../private/is_heatwave/Europe_0.25deg/Europe_0.25deg_1990-06-01_1990-07-01_ishw.nc'\n",
    "\n",
    "data = nc.Dataset(file_path)"
   ]
  },
  {
   "cell_type": "code",
   "execution_count": 2,
   "id": "f8063ea8-2afa-4c1d-b20a-1c8236ff2f33",
   "metadata": {},
   "outputs": [
    {
     "name": "stdout",
     "output_type": "stream",
     "text": [
      "dict_keys(['time', 'x', 'y', 'is_heatwave'])\n"
     ]
    }
   ],
   "source": [
    "print(data.variables.keys())"
   ]
  },
  {
   "cell_type": "code",
   "execution_count": 3,
   "id": "65601877-70bf-449e-9d90-b1fb3ce94ce1",
   "metadata": {},
   "outputs": [
    {
     "ename": "OSError",
     "evalue": "master dataset ../private/is_heatwave/Europe_0.25deg/Europe_0.25deg_1990-06-01_1990-07-01_ishw.nc does not have a aggregation dimension",
     "output_type": "error",
     "traceback": [
      "\u001b[0;31m---------------------------------------------------------------------------\u001b[0m",
      "\u001b[0;31mOSError\u001b[0m                                   Traceback (most recent call last)",
      "Cell \u001b[0;32mIn[3], line 9\u001b[0m\n\u001b[1;32m      6\u001b[0m file_paths \u001b[38;5;241m=\u001b[39m [file_path_1, file_path_2, file_path_3]\n\u001b[1;32m      8\u001b[0m \u001b[38;5;66;03m# Merge all files into one dataset\u001b[39;00m\n\u001b[0;32m----> 9\u001b[0m data_1990 \u001b[38;5;241m=\u001b[39m \u001b[43mnc\u001b[49m\u001b[38;5;241;43m.\u001b[39;49m\u001b[43mMFDataset\u001b[49m\u001b[43m(\u001b[49m\u001b[43mfile_paths\u001b[49m\u001b[43m)\u001b[49m\n",
      "File \u001b[0;32msrc/netCDF4/_netCDF4.pyx:6811\u001b[0m, in \u001b[0;36mnetCDF4._netCDF4.MFDataset.__init__\u001b[0;34m()\u001b[0m\n",
      "\u001b[0;31mOSError\u001b[0m: master dataset ../private/is_heatwave/Europe_0.25deg/Europe_0.25deg_1990-06-01_1990-07-01_ishw.nc does not have a aggregation dimension"
     ]
    }
   ],
   "source": [
    "# List the paths to your NetCDF files\n",
    "file_path_1 = '../private/is_heatwave/Europe_0.25deg/Europe_0.25deg_1990-06-01_1990-07-01_ishw.nc'\n",
    "file_path_2 = '../private/is_heatwave/Europe_0.25deg/Europe_0.25deg_1990-07-01_1990-08-01_ishw.nc'\n",
    "file_path_3 = '../private/is_heatwave/Europe_0.25deg/Europe_0.25deg_1990-08-01_1990-09-01_ishw.nc'\n",
    "\n",
    "file_paths = [file_path_1, file_path_2, file_path_3]\n",
    "\n",
    "# Merge all files into one dataset\n",
    "data_1990 = nc.MFDataset(file_paths)"
   ]
  },
  {
   "cell_type": "code",
   "execution_count": 3,
   "id": "9cc27251-dabb-4095-a188-f6dafff70ebb",
   "metadata": {},
   "outputs": [
    {
     "data": {
      "text/plain": [
       "netCDF4._netCDF4.Dataset"
      ]
     },
     "execution_count": 3,
     "metadata": {},
     "output_type": "execute_result"
    }
   ],
   "source": [
    "type(data)"
   ]
  },
  {
   "cell_type": "code",
   "execution_count": 4,
   "id": "87125a4e-3c30-4d01-8878-ede7b366ac08",
   "metadata": {},
   "outputs": [],
   "source": [
    "import xarray\n",
    "import glob\n",
    "\n",
    "# List of file paths (use a wildcard pattern to match all files)\n",
    "file_pattern = '../private/is_heatwave/Europe_0.25deg/Europe_0.25deg_1990-*.nc'\n",
    "file_paths = glob.glob(file_pattern)"
   ]
  },
  {
   "cell_type": "code",
   "execution_count": 5,
   "id": "3e2f0be2-8d9d-459c-8a2f-1817cb092e3c",
   "metadata": {},
   "outputs": [],
   "source": [
    "# Merge all files into a single dataset\n",
    "ds = xarray.merge([xarray.open_dataset(f) for f in file_paths])"
   ]
  },
  {
   "cell_type": "code",
   "execution_count": 6,
   "id": "e01df375-5f40-46e3-9a62-f53808b9a735",
   "metadata": {},
   "outputs": [
    {
     "data": {
      "text/plain": [
       "xarray.core.dataset.Dataset"
      ]
     },
     "execution_count": 6,
     "metadata": {},
     "output_type": "execute_result"
    }
   ],
   "source": [
    "type(ds)"
   ]
  },
  {
   "cell_type": "code",
   "execution_count": 7,
   "id": "8065f21c-5599-4522-8ec1-ba524f87d72e",
   "metadata": {},
   "outputs": [
    {
     "name": "stdout",
     "output_type": "stream",
     "text": [
      "<xarray.Dataset> Size: 28MB\n",
      "Dimensions:      (time: 92, x: 141, y: 268)\n",
      "Coordinates:\n",
      "  * time         (time) datetime64[ns] 736B 1990-06-01 1990-06-02 ... 1990-08-31\n",
      "  * x            (x) float64 1kB 35.88 36.12 36.38 36.62 ... 70.38 70.62 70.88\n",
      "  * y            (y) float64 2kB -25.88 -25.62 -25.38 ... 40.38 40.62 40.88\n",
      "Data variables:\n",
      "    is_heatwave  (time, x, y) float64 28MB 0.0 0.0 0.0 0.0 ... 0.0 0.0 0.0 0.0\n"
     ]
    }
   ],
   "source": [
    "print(ds)"
   ]
  },
  {
   "cell_type": "code",
   "execution_count": 29,
   "id": "be2f8180-0eb7-4f3f-9177-842103bbebfb",
   "metadata": {},
   "outputs": [
    {
     "name": "stdout",
     "output_type": "stream",
     "text": [
      "<xarray.DataArray 'is_heatwave' ()> Size: 8B\n",
      "array(0.)\n",
      "Coordinates:\n",
      "    time     datetime64[ns] 8B 1990-06-01\n",
      "    x        float64 8B 35.88\n",
      "    y        float64 8B -25.88\n",
      "Attributes:\n",
      "    description:  Whether a pixel is part of a heatwave\n",
      "    units:        0/1\n"
     ]
    }
   ],
   "source": [
    "print(ds.is_heatwave[0,0,0])"
   ]
  },
  {
   "cell_type": "code",
   "execution_count": 13,
   "id": "68fd5d34-bbbe-4181-b091-4c03c720737d",
   "metadata": {},
   "outputs": [],
   "source": [
    "import pandas as pd\n",
    "\n",
    "df = ds.to_dataframe().reset_index()"
   ]
  },
  {
   "cell_type": "code",
   "execution_count": 14,
   "id": "36597620-b61c-46fe-a288-8ed9b11bb180",
   "metadata": {},
   "outputs": [
    {
     "name": "stdout",
     "output_type": "stream",
     "text": [
      "              time       x       y  is_heatwave\n",
      "0       1990-06-01  35.875 -25.875          0.0\n",
      "1       1990-06-01  35.875 -25.625          0.0\n",
      "2       1990-06-01  35.875 -25.375          0.0\n",
      "3       1990-06-01  35.875 -25.125          0.0\n",
      "4       1990-06-01  35.875 -24.875          0.0\n",
      "...            ...     ...     ...          ...\n",
      "3476491 1990-08-31  70.875  39.875          0.0\n",
      "3476492 1990-08-31  70.875  40.125          0.0\n",
      "3476493 1990-08-31  70.875  40.375          0.0\n",
      "3476494 1990-08-31  70.875  40.625          0.0\n",
      "3476495 1990-08-31  70.875  40.875          0.0\n",
      "\n",
      "[3476496 rows x 4 columns]\n"
     ]
    }
   ],
   "source": [
    "print(df)"
   ]
  },
  {
   "cell_type": "code",
   "execution_count": 62,
   "id": "260b4a41-c9c9-43e2-971b-7764c6c31f60",
   "metadata": {},
   "outputs": [
    {
     "name": "stdout",
     "output_type": "stream",
     "text": [
      "243\n"
     ]
    }
   ],
   "source": [
    "import pandas as pd\n",
    "\n",
    "# Assuming you have a dataframe 'df' with a 'datetime_column'\n",
    "basedate = pd.to_datetime(\"1990-01-01\")\n",
    "test = (df.time[3476491] - basedate).days + 1\n",
    "print(test)"
   ]
  },
  {
   "cell_type": "code",
   "execution_count": null,
   "id": "cc8071a1-a799-43f3-934d-9586384e514e",
   "metadata": {},
   "outputs": [],
   "source": [
    "basedate = pd.to_datetime(\"1990-01-01\")\n",
    "for i in range(len(df.time)):\n",
    "    df.time[i] = (df.time[i] - basedate).days + 1"
   ]
  },
  {
   "cell_type": "code",
   "execution_count": 60,
   "id": "77fab928-1e1e-4036-a57f-dce65b17ac4a",
   "metadata": {},
   "outputs": [
    {
     "data": {
      "text/plain": [
       "Timestamp('1990-06-01 00:00:00')"
      ]
     },
     "execution_count": 60,
     "metadata": {},
     "output_type": "execute_result"
    }
   ],
   "source": [
    "df.time[0]"
   ]
  },
  {
   "cell_type": "code",
   "execution_count": 48,
   "id": "95c74c12-b2df-4a7e-a547-c60040c04562",
   "metadata": {},
   "outputs": [],
   "source": [
    "test = []\n",
    "coord = (df.x[0], df.y[0])\n",
    "\n",
    "if not coord in test:\n",
    "    test.append(coord)"
   ]
  },
  {
   "cell_type": "code",
   "execution_count": 33,
   "id": "fa26e408-241d-4558-90bf-c4cba76aa8fc",
   "metadata": {},
   "outputs": [
    {
     "data": {
      "text/plain": [
       "range(0, 3476496)"
      ]
     },
     "execution_count": 33,
     "metadata": {},
     "output_type": "execute_result"
    }
   ],
   "source": [
    "range(len(df.time))"
   ]
  },
  {
   "cell_type": "code",
   "execution_count": 50,
   "id": "d91b5b73-a3d7-4550-9153-fd0334351f61",
   "metadata": {},
   "outputs": [],
   "source": [
    "days = []\n",
    "coordinates = []\n",
    "for i in range(len(df.time)):\n",
    "    if df.is_heatwave[i] != 0.0:\n",
    "        coord = (df.x[i], df.y[i])\n",
    "        if not coord in coordinates:\n",
    "            coordinates.append((df.x[i], df.y[i]))\n",
    "            days.append(df.time[i].day)"
   ]
  },
  {
   "cell_type": "code",
   "execution_count": 52,
   "id": "0b153655-d206-4992-bd8c-5e6db9c1794b",
   "metadata": {},
   "outputs": [
    {
     "data": {
      "text/plain": [
       "(array([1556.,  361., 1658., 1420.,  559.,  744.,  952.,  719.,  468.,\n",
       "         580.,  443., 1017.,  826., 1064., 2246.]),\n",
       " array([ 1.,  3.,  5.,  7.,  9., 11., 13., 15., 17., 19., 21., 23., 25.,\n",
       "        27., 29., 31.]),\n",
       " <BarContainer object of 15 artists>)"
      ]
     },
     "execution_count": 52,
     "metadata": {},
     "output_type": "execute_result"
    },
    {
     "data": {
      "image/png": "[encoded data removed]",
      "text/plain": [
       "<Figure size 640x480 with 1 Axes>"
      ]
     },
     "metadata": {},
     "output_type": "display_data"
    }
   ],
   "source": [
    "import matplotlib.pyplot as plt\n",
    "\n",
    "plt.hist(days, color='lightgreen', ec='black', bins=15)"
   ]
  },
  {
   "cell_type": "code",
   "execution_count": 54,
   "id": "e50f3796-4de4-410c-be65-f8927f8d651c",
   "metadata": {},
   "outputs": [
    {
     "data": {
      "text/plain": [
       "<seaborn.axisgrid.FacetGrid at 0x7fd0abad6c90>"
      ]
     },
     "execution_count": 54,
     "metadata": {},
     "output_type": "execute_result"
    },
    {
     "data": {
      "image/png": "[encoded data removed]",
      "text/plain": [
       "<Figure size 500x500 with 1 Axes>"
      ]
     },
     "metadata": {},
     "output_type": "display_data"
    }
   ],
   "source": [
    "import seaborn as sns\n",
    "sns.displot(days, kde=True, bins=15)"
   ]
  },
  {
   "cell_type": "code",
   "execution_count": null,
   "id": "74f2cf6a-56e5-45e0-b1cd-9e35f00992f0",
   "metadata": {},
   "outputs": [],
   "source": []
  }
 ],
 "metadata": {
  "kernelspec": {
   "display_name": "Python 3 (ipykernel)",
   "language": "python",
   "name": "python3"
  },
  "language_info": {
   "codemirror_mode": {
    "name": "ipython",
    "version": 3
   },
   "file_extension": ".py",
   "mimetype": "text/x-python",
   "name": "python",
   "nbconvert_exporter": "python",
   "pygments_lexer": "ipython3",
   "version": "3.11.8"
  }
 },
 "nbformat": 4,
 "nbformat_minor": 5
}
