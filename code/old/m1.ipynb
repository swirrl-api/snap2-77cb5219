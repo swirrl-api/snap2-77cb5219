{
 "cells": [
  {
   "cell_type": "code",
   "execution_count": 30,
   "id": "c0ff6114-3930-4e43-a9d3-6714ec9d8fb0",
   "metadata": {},
   "outputs": [],
   "source": [
    "import netCDF4 as nc\n",
    "import xarray as xr\n",
    "import glob\n",
    "import pandas as pd\n",
    "import os"
   ]
  },
  {
   "cell_type": "markdown",
   "id": "9a62e43c-c858-4c3f-940d-37904ef46043",
   "metadata": {},
   "source": [
    "# 1990 CC"
   ]
  },
  {
   "cell_type": "code",
   "execution_count": 11,
   "id": "b827687c-eb18-45b8-a24b-c2741302ed44",
   "metadata": {},
   "outputs": [],
   "source": [
    "file_pattern = '../private/complex_network_coefficients/1990-1999_run_20240122_1017/rasterfiles/Europe/1990/CN_Europe_0.25x0.25deg_CC_1990-*.nc'\n",
    "file_paths = glob.glob(file_pattern)\n",
    "\n",
    "# Open and concatenate files\n",
    "cc_1990_cn = xr.open_mfdataset(file_paths)\n",
    "\n",
    "# Rename coefficient\n",
    "cc_1990_cn = cc_1990_cn.rename({'coefficient': 'CC'})\n",
    "\n",
    "# Save the merged data to a new NetCDF file\n",
    "cc_1990_cn.to_netcdf(\"cc_1990_cn.nc\")"
   ]
  },
  {
   "cell_type": "code",
   "execution_count": 6,
   "id": "eca25fd3-8917-45ff-a854-438f23e4ed2f",
   "metadata": {},
   "outputs": [
    {
     "name": "stdout",
     "output_type": "stream",
     "text": [
      "<class 'netCDF4._netCDF4.Dataset'>\n",
      "root group (NETCDF4 data model, file format HDF5):\n",
      "    dimensions(sizes): time(30), x(141), y(268)\n",
      "    variables(dimensions): int64 time(time), float64 x(x), float64 y(y), float64 is_heatwave(time, x, y)\n",
      "    groups: \n"
     ]
    }
   ],
   "source": [
    "file_path = '../private/is_heatwave/Europe_0.25deg/Europe_0.25deg_1990-06-01_1990-07-01_ishw.nc'\n",
    "data = nc.Dataset(file_path)\n",
    "print(data)"
   ]
  },
  {
   "cell_type": "code",
   "execution_count": 20,
   "id": "d85cd702-81ea-42ac-8fbe-f45fb3b2fdc6",
   "metadata": {},
   "outputs": [
    {
     "name": "stdout",
     "output_type": "stream",
     "text": [
      "['../private/is_heatwave/Europe_0.25deg/Europe_0.25deg_1990-08-01_1990-09-01_ishw.nc', '../private/is_heatwave/Europe_0.25deg/Europe_0.25deg_1990-06-01_1990-07-01_ishw.nc', '../private/is_heatwave/Europe_0.25deg/Europe_0.25deg_1990-07-01_1990-08-01_ishw.nc']\n"
     ]
    }
   ],
   "source": [
    "file_pattern = '../private/is_heatwave/Europe_0.25deg/Europe_0.25deg_1990-0*.nc'\n",
    "file_paths = glob.glob(file_pattern)\n",
    "print(file_paths)\n",
    "\n",
    "# Open and concatenate files\n",
    "cc_1990_ih = xr.open_mfdataset(file_paths)\n",
    "\n",
    "# Rename coefficient\n",
    "cc_1990_ih = cc_1990_ih.rename({'x': 'lat'})\n",
    "cc_1990_ih = cc_1990_ih.rename({'y': 'lon'})\n",
    "\n",
    "\n",
    "if os.path.exists(\"cc_1990_ih.nc\"):\n",
    "    os.remove(\"cc_1990_ih.nc\")\n",
    "    cc_1990_ih.to_netcdf(\"cc_1990_ih.nc\")\n",
    "else:\n",
    "    cc_1990_ih.to_netcdf(\"cc_1990_ih.nc\")\n",
    "\n",
    "# cc_1990_ih.to_netcdf(\"cc_1990_ih.nc\")"
   ]
  },
  {
   "cell_type": "code",
   "execution_count": 21,
   "id": "c4004bee-c745-4fff-8fbf-cab3ffd58726",
   "metadata": {},
   "outputs": [
    {
     "name": "stdout",
     "output_type": "stream",
     "text": [
      "<class 'netCDF4._netCDF4.Dataset'>\n",
      "root group (NETCDF4 data model, file format HDF5):\n",
      "    dimensions(sizes): time(92), lat(141), lon(268)\n",
      "    variables(dimensions): int64 time(time), float64 lat(lat), float64 lon(lon), float64 is_heatwave(time, lat, lon)\n",
      "    groups: \n"
     ]
    }
   ],
   "source": [
    "file_path = 'cc_1990_ih.nc'\n",
    "data = nc.Dataset(file_path)\n",
    "print(data)"
   ]
  },
  {
   "cell_type": "code",
   "execution_count": 12,
   "id": "0777498f-91b6-41fd-a114-eccbf3627623",
   "metadata": {},
   "outputs": [
    {
     "name": "stdout",
     "output_type": "stream",
     "text": [
      "          lon        lat       time   CC  spatial_ref\n",
      "0       -26.0  35.799999 1990-06-01  0.0  -2147483647\n",
      "1       -26.0  35.799999 1990-06-02  0.0  -2147483647\n",
      "2       -26.0  35.799999 1990-06-03  0.0  -2147483647\n",
      "3       -26.0  35.799999 1990-06-04  0.0  -2147483647\n",
      "4       -26.0  35.799999 1990-06-05  0.0  -2147483647\n",
      "...       ...        ...        ...  ...          ...\n",
      "3589855  41.0  71.000000 1990-08-28  0.0  -2147483647\n",
      "3589856  41.0  71.000000 1990-08-29  0.0  -2147483647\n",
      "3589857  41.0  71.000000 1990-08-30  0.0  -2147483647\n",
      "3589858  41.0  71.000000 1990-08-31  0.0  -2147483647\n",
      "3589859  41.0  71.000000 1990-09-01  0.0  -2147483647\n",
      "\n",
      "[3589860 rows x 5 columns]\n"
     ]
    }
   ],
   "source": [
    "ds = xr.open_dataset('cc_1990_cn.nc')\n",
    "df = ds.to_dataframe().reset_index()\n",
    "print(df)"
   ]
  },
  {
   "cell_type": "code",
   "execution_count": 23,
   "id": "5267ef53-d53e-416a-b54b-1162a860d355",
   "metadata": {},
   "outputs": [
    {
     "name": "stdout",
     "output_type": "stream",
     "text": [
      "              time     lat     lon  is_heatwave\n",
      "0       1990-06-01  35.875 -25.875          0.0\n",
      "1       1990-06-01  35.875 -25.625          0.0\n",
      "2       1990-06-01  35.875 -25.375          0.0\n",
      "3       1990-06-01  35.875 -25.125          0.0\n",
      "4       1990-06-01  35.875 -24.875          0.0\n",
      "...            ...     ...     ...          ...\n",
      "3476491 1990-08-31  70.875  39.875          0.0\n",
      "3476492 1990-08-31  70.875  40.125          0.0\n",
      "3476493 1990-08-31  70.875  40.375          0.0\n",
      "3476494 1990-08-31  70.875  40.625          0.0\n",
      "3476495 1990-08-31  70.875  40.875          0.0\n",
      "\n",
      "[3476496 rows x 4 columns]\n"
     ]
    }
   ],
   "source": [
    "ds = xr.open_dataset('cc_1990_ih.nc')\n",
    "df = ds.to_dataframe().reset_index()\n",
    "print(df)"
   ]
  },
  {
   "cell_type": "code",
   "execution_count": 22,
   "id": "15ed234e-3806-4695-a76f-dd00274d73f1",
   "metadata": {},
   "outputs": [
    {
     "ename": "ValueError",
     "evalue": "cannot reindex or align along dimension 'time' because the (pandas) index has duplicate values",
     "output_type": "error",
     "traceback": [
      "\u001b[0;31m---------------------------------------------------------------------------\u001b[0m",
      "\u001b[0;31mValueError\u001b[0m                                Traceback (most recent call last)",
      "Cell \u001b[0;32mIn[22], line 10\u001b[0m\n\u001b[1;32m      7\u001b[0m ds2 \u001b[38;5;241m=\u001b[39m xr\u001b[38;5;241m.\u001b[39mopen_dataset(cc_ih)\n\u001b[1;32m      9\u001b[0m \u001b[38;5;66;03m# Merge datasets\u001b[39;00m\n\u001b[0;32m---> 10\u001b[0m cc_merged \u001b[38;5;241m=\u001b[39m \u001b[43mxr\u001b[49m\u001b[38;5;241;43m.\u001b[39;49m\u001b[43mcombine_by_coords\u001b[49m\u001b[43m(\u001b[49m\u001b[43m[\u001b[49m\u001b[43mds1\u001b[49m\u001b[43m,\u001b[49m\u001b[43m \u001b[49m\u001b[43mds2\u001b[49m\u001b[43m]\u001b[49m\u001b[43m)\u001b[49m\n\u001b[1;32m     12\u001b[0m \u001b[38;5;28mprint\u001b[39m(cc_merged)\n",
      "File \u001b[0;32m/opt/conda/lib/python3.11/site-packages/xarray/core/combine.py:971\u001b[0m, in \u001b[0;36mcombine_by_coords\u001b[0;34m(data_objects, compat, data_vars, coords, fill_value, join, combine_attrs)\u001b[0m\n\u001b[1;32m    956\u001b[0m     \u001b[38;5;66;03m# Perform the multidimensional combine on each group of data variables\u001b[39;00m\n\u001b[1;32m    957\u001b[0m     \u001b[38;5;66;03m# before merging back together\u001b[39;00m\n\u001b[1;32m    958\u001b[0m     concatenated_grouped_by_data_vars \u001b[38;5;241m=\u001b[39m \u001b[38;5;28mtuple\u001b[39m(\n\u001b[1;32m    959\u001b[0m         _combine_single_variable_hypercube(\n\u001b[1;32m    960\u001b[0m             \u001b[38;5;28mtuple\u001b[39m(datasets_with_same_vars),\n\u001b[0;32m   (...)\u001b[0m\n\u001b[1;32m    968\u001b[0m         \u001b[38;5;28;01mfor\u001b[39;00m \u001b[38;5;28mvars\u001b[39m, datasets_with_same_vars \u001b[38;5;129;01min\u001b[39;00m grouped_by_vars\n\u001b[1;32m    969\u001b[0m     )\n\u001b[0;32m--> 971\u001b[0m \u001b[38;5;28;01mreturn\u001b[39;00m \u001b[43mmerge\u001b[49m\u001b[43m(\u001b[49m\n\u001b[1;32m    972\u001b[0m \u001b[43m    \u001b[49m\u001b[43mconcatenated_grouped_by_data_vars\u001b[49m\u001b[43m,\u001b[49m\n\u001b[1;32m    973\u001b[0m \u001b[43m    \u001b[49m\u001b[43mcompat\u001b[49m\u001b[38;5;241;43m=\u001b[39;49m\u001b[43mcompat\u001b[49m\u001b[43m,\u001b[49m\n\u001b[1;32m    974\u001b[0m \u001b[43m    \u001b[49m\u001b[43mfill_value\u001b[49m\u001b[38;5;241;43m=\u001b[39;49m\u001b[43mfill_value\u001b[49m\u001b[43m,\u001b[49m\n\u001b[1;32m    975\u001b[0m \u001b[43m    \u001b[49m\u001b[43mjoin\u001b[49m\u001b[38;5;241;43m=\u001b[39;49m\u001b[43mjoin\u001b[49m\u001b[43m,\u001b[49m\n\u001b[1;32m    976\u001b[0m \u001b[43m    \u001b[49m\u001b[43mcombine_attrs\u001b[49m\u001b[38;5;241;43m=\u001b[39;49m\u001b[43mcombine_attrs\u001b[49m\u001b[43m,\u001b[49m\n\u001b[1;32m    977\u001b[0m \u001b[43m\u001b[49m\u001b[43m)\u001b[49m\n",
      "File \u001b[0;32m/opt/conda/lib/python3.11/site-packages/xarray/core/merge.py:976\u001b[0m, in \u001b[0;36mmerge\u001b[0;34m(objects, compat, join, fill_value, combine_attrs)\u001b[0m\n\u001b[1;32m    973\u001b[0m         obj \u001b[38;5;241m=\u001b[39m obj\u001b[38;5;241m.\u001b[39mto_dataset()\n\u001b[1;32m    974\u001b[0m     dict_like_objects\u001b[38;5;241m.\u001b[39mappend(obj)\n\u001b[0;32m--> 976\u001b[0m merge_result \u001b[38;5;241m=\u001b[39m \u001b[43mmerge_core\u001b[49m\u001b[43m(\u001b[49m\n\u001b[1;32m    977\u001b[0m \u001b[43m    \u001b[49m\u001b[43mdict_like_objects\u001b[49m\u001b[43m,\u001b[49m\n\u001b[1;32m    978\u001b[0m \u001b[43m    \u001b[49m\u001b[43mcompat\u001b[49m\u001b[43m,\u001b[49m\n\u001b[1;32m    979\u001b[0m \u001b[43m    \u001b[49m\u001b[43mjoin\u001b[49m\u001b[43m,\u001b[49m\n\u001b[1;32m    980\u001b[0m \u001b[43m    \u001b[49m\u001b[43mcombine_attrs\u001b[49m\u001b[38;5;241;43m=\u001b[39;49m\u001b[43mcombine_attrs\u001b[49m\u001b[43m,\u001b[49m\n\u001b[1;32m    981\u001b[0m \u001b[43m    \u001b[49m\u001b[43mfill_value\u001b[49m\u001b[38;5;241;43m=\u001b[39;49m\u001b[43mfill_value\u001b[49m\u001b[43m,\u001b[49m\n\u001b[1;32m    982\u001b[0m \u001b[43m\u001b[49m\u001b[43m)\u001b[49m\n\u001b[1;32m    983\u001b[0m \u001b[38;5;28;01mreturn\u001b[39;00m Dataset\u001b[38;5;241m.\u001b[39m_construct_direct(\u001b[38;5;241m*\u001b[39m\u001b[38;5;241m*\u001b[39mmerge_result\u001b[38;5;241m.\u001b[39m_asdict())\n",
      "File \u001b[0;32m/opt/conda/lib/python3.11/site-packages/xarray/core/merge.py:692\u001b[0m, in \u001b[0;36mmerge_core\u001b[0;34m(objects, compat, join, combine_attrs, priority_arg, explicit_coords, indexes, fill_value, skip_align_args)\u001b[0m\n\u001b[1;32m    689\u001b[0m skip_align_objs \u001b[38;5;241m=\u001b[39m [(pos, objects\u001b[38;5;241m.\u001b[39mpop(pos)) \u001b[38;5;28;01mfor\u001b[39;00m pos \u001b[38;5;129;01min\u001b[39;00m skip_align_args]\n\u001b[1;32m    691\u001b[0m coerced \u001b[38;5;241m=\u001b[39m coerce_pandas_values(objects)\n\u001b[0;32m--> 692\u001b[0m aligned \u001b[38;5;241m=\u001b[39m \u001b[43mdeep_align\u001b[49m\u001b[43m(\u001b[49m\n\u001b[1;32m    693\u001b[0m \u001b[43m    \u001b[49m\u001b[43mcoerced\u001b[49m\u001b[43m,\u001b[49m\u001b[43m \u001b[49m\u001b[43mjoin\u001b[49m\u001b[38;5;241;43m=\u001b[39;49m\u001b[43mjoin\u001b[49m\u001b[43m,\u001b[49m\u001b[43m \u001b[49m\u001b[43mcopy\u001b[49m\u001b[38;5;241;43m=\u001b[39;49m\u001b[38;5;28;43;01mFalse\u001b[39;49;00m\u001b[43m,\u001b[49m\u001b[43m \u001b[49m\u001b[43mindexes\u001b[49m\u001b[38;5;241;43m=\u001b[39;49m\u001b[43mindexes\u001b[49m\u001b[43m,\u001b[49m\u001b[43m \u001b[49m\u001b[43mfill_value\u001b[49m\u001b[38;5;241;43m=\u001b[39;49m\u001b[43mfill_value\u001b[49m\n\u001b[1;32m    694\u001b[0m \u001b[43m\u001b[49m\u001b[43m)\u001b[49m\n\u001b[1;32m    696\u001b[0m \u001b[38;5;28;01mfor\u001b[39;00m pos, obj \u001b[38;5;129;01min\u001b[39;00m skip_align_objs:\n\u001b[1;32m    697\u001b[0m     aligned\u001b[38;5;241m.\u001b[39minsert(pos, obj)\n",
      "File \u001b[0;32m/opt/conda/lib/python3.11/site-packages/xarray/core/alignment.py:946\u001b[0m, in \u001b[0;36mdeep_align\u001b[0;34m(objects, join, copy, indexes, exclude, raise_on_invalid, fill_value)\u001b[0m\n\u001b[1;32m    943\u001b[0m     \u001b[38;5;28;01melse\u001b[39;00m:\n\u001b[1;32m    944\u001b[0m         out\u001b[38;5;241m.\u001b[39mappend(variables)\n\u001b[0;32m--> 946\u001b[0m aligned \u001b[38;5;241m=\u001b[39m \u001b[43malign\u001b[49m\u001b[43m(\u001b[49m\n\u001b[1;32m    947\u001b[0m \u001b[43m    \u001b[49m\u001b[38;5;241;43m*\u001b[39;49m\u001b[43mtargets\u001b[49m\u001b[43m,\u001b[49m\n\u001b[1;32m    948\u001b[0m \u001b[43m    \u001b[49m\u001b[43mjoin\u001b[49m\u001b[38;5;241;43m=\u001b[39;49m\u001b[43mjoin\u001b[49m\u001b[43m,\u001b[49m\n\u001b[1;32m    949\u001b[0m \u001b[43m    \u001b[49m\u001b[43mcopy\u001b[49m\u001b[38;5;241;43m=\u001b[39;49m\u001b[43mcopy\u001b[49m\u001b[43m,\u001b[49m\n\u001b[1;32m    950\u001b[0m \u001b[43m    \u001b[49m\u001b[43mindexes\u001b[49m\u001b[38;5;241;43m=\u001b[39;49m\u001b[43mindexes\u001b[49m\u001b[43m,\u001b[49m\n\u001b[1;32m    951\u001b[0m \u001b[43m    \u001b[49m\u001b[43mexclude\u001b[49m\u001b[38;5;241;43m=\u001b[39;49m\u001b[43mexclude\u001b[49m\u001b[43m,\u001b[49m\n\u001b[1;32m    952\u001b[0m \u001b[43m    \u001b[49m\u001b[43mfill_value\u001b[49m\u001b[38;5;241;43m=\u001b[39;49m\u001b[43mfill_value\u001b[49m\u001b[43m,\u001b[49m\n\u001b[1;32m    953\u001b[0m \u001b[43m\u001b[49m\u001b[43m)\u001b[49m\n\u001b[1;32m    955\u001b[0m \u001b[38;5;28;01mfor\u001b[39;00m position, key, aligned_obj \u001b[38;5;129;01min\u001b[39;00m \u001b[38;5;28mzip\u001b[39m(positions, keys, aligned):\n\u001b[1;32m    956\u001b[0m     \u001b[38;5;28;01mif\u001b[39;00m key \u001b[38;5;129;01mis\u001b[39;00m no_key:\n",
      "File \u001b[0;32m/opt/conda/lib/python3.11/site-packages/xarray/core/alignment.py:882\u001b[0m, in \u001b[0;36malign\u001b[0;34m(join, copy, indexes, exclude, fill_value, *objects)\u001b[0m\n\u001b[1;32m    686\u001b[0m \u001b[38;5;250m\u001b[39m\u001b[38;5;124;03m\"\"\"\u001b[39;00m\n\u001b[1;32m    687\u001b[0m \u001b[38;5;124;03mGiven any number of Dataset and/or DataArray objects, returns new\u001b[39;00m\n\u001b[1;32m    688\u001b[0m \u001b[38;5;124;03mobjects with aligned indexes and dimension sizes.\u001b[39;00m\n\u001b[0;32m   (...)\u001b[0m\n\u001b[1;32m    872\u001b[0m \n\u001b[1;32m    873\u001b[0m \u001b[38;5;124;03m\"\"\"\u001b[39;00m\n\u001b[1;32m    874\u001b[0m aligner \u001b[38;5;241m=\u001b[39m Aligner(\n\u001b[1;32m    875\u001b[0m     objects,\n\u001b[1;32m    876\u001b[0m     join\u001b[38;5;241m=\u001b[39mjoin,\n\u001b[0;32m   (...)\u001b[0m\n\u001b[1;32m    880\u001b[0m     fill_value\u001b[38;5;241m=\u001b[39mfill_value,\n\u001b[1;32m    881\u001b[0m )\n\u001b[0;32m--> 882\u001b[0m \u001b[43maligner\u001b[49m\u001b[38;5;241;43m.\u001b[39;49m\u001b[43malign\u001b[49m\u001b[43m(\u001b[49m\u001b[43m)\u001b[49m\n\u001b[1;32m    883\u001b[0m \u001b[38;5;28;01mreturn\u001b[39;00m aligner\u001b[38;5;241m.\u001b[39mresults\n",
      "File \u001b[0;32m/opt/conda/lib/python3.11/site-packages/xarray/core/alignment.py:582\u001b[0m, in \u001b[0;36mAligner.align\u001b[0;34m(self)\u001b[0m\n\u001b[1;32m    580\u001b[0m     \u001b[38;5;28mself\u001b[39m\u001b[38;5;241m.\u001b[39mresults \u001b[38;5;241m=\u001b[39m \u001b[38;5;28mself\u001b[39m\u001b[38;5;241m.\u001b[39mobjects\n\u001b[1;32m    581\u001b[0m \u001b[38;5;28;01melse\u001b[39;00m:\n\u001b[0;32m--> 582\u001b[0m     \u001b[38;5;28;43mself\u001b[39;49m\u001b[38;5;241;43m.\u001b[39;49m\u001b[43mreindex_all\u001b[49m\u001b[43m(\u001b[49m\u001b[43m)\u001b[49m\n",
      "File \u001b[0;32m/opt/conda/lib/python3.11/site-packages/xarray/core/alignment.py:557\u001b[0m, in \u001b[0;36mAligner.reindex_all\u001b[0;34m(self)\u001b[0m\n\u001b[1;32m    556\u001b[0m \u001b[38;5;28;01mdef\u001b[39;00m \u001b[38;5;21mreindex_all\u001b[39m(\u001b[38;5;28mself\u001b[39m) \u001b[38;5;241m-\u001b[39m\u001b[38;5;241m>\u001b[39m \u001b[38;5;28;01mNone\u001b[39;00m:\n\u001b[0;32m--> 557\u001b[0m     \u001b[38;5;28mself\u001b[39m\u001b[38;5;241m.\u001b[39mresults \u001b[38;5;241m=\u001b[39m \u001b[38;5;28mtuple\u001b[39m(\n\u001b[1;32m    558\u001b[0m         \u001b[38;5;28mself\u001b[39m\u001b[38;5;241m.\u001b[39m_reindex_one(obj, matching_indexes)\n\u001b[1;32m    559\u001b[0m         \u001b[38;5;28;01mfor\u001b[39;00m obj, matching_indexes \u001b[38;5;129;01min\u001b[39;00m \u001b[38;5;28mzip\u001b[39m(\n\u001b[1;32m    560\u001b[0m             \u001b[38;5;28mself\u001b[39m\u001b[38;5;241m.\u001b[39mobjects, \u001b[38;5;28mself\u001b[39m\u001b[38;5;241m.\u001b[39mobjects_matching_indexes\n\u001b[1;32m    561\u001b[0m         )\n\u001b[1;32m    562\u001b[0m     )\n",
      "File \u001b[0;32m/opt/conda/lib/python3.11/site-packages/xarray/core/alignment.py:558\u001b[0m, in \u001b[0;36m<genexpr>\u001b[0;34m(.0)\u001b[0m\n\u001b[1;32m    556\u001b[0m \u001b[38;5;28;01mdef\u001b[39;00m \u001b[38;5;21mreindex_all\u001b[39m(\u001b[38;5;28mself\u001b[39m) \u001b[38;5;241m-\u001b[39m\u001b[38;5;241m>\u001b[39m \u001b[38;5;28;01mNone\u001b[39;00m:\n\u001b[1;32m    557\u001b[0m     \u001b[38;5;28mself\u001b[39m\u001b[38;5;241m.\u001b[39mresults \u001b[38;5;241m=\u001b[39m \u001b[38;5;28mtuple\u001b[39m(\n\u001b[0;32m--> 558\u001b[0m         \u001b[38;5;28;43mself\u001b[39;49m\u001b[38;5;241;43m.\u001b[39;49m\u001b[43m_reindex_one\u001b[49m\u001b[43m(\u001b[49m\u001b[43mobj\u001b[49m\u001b[43m,\u001b[49m\u001b[43m \u001b[49m\u001b[43mmatching_indexes\u001b[49m\u001b[43m)\u001b[49m\n\u001b[1;32m    559\u001b[0m         \u001b[38;5;28;01mfor\u001b[39;00m obj, matching_indexes \u001b[38;5;129;01min\u001b[39;00m \u001b[38;5;28mzip\u001b[39m(\n\u001b[1;32m    560\u001b[0m             \u001b[38;5;28mself\u001b[39m\u001b[38;5;241m.\u001b[39mobjects, \u001b[38;5;28mself\u001b[39m\u001b[38;5;241m.\u001b[39mobjects_matching_indexes\n\u001b[1;32m    561\u001b[0m         )\n\u001b[1;32m    562\u001b[0m     )\n",
      "File \u001b[0;32m/opt/conda/lib/python3.11/site-packages/xarray/core/alignment.py:544\u001b[0m, in \u001b[0;36mAligner._reindex_one\u001b[0;34m(self, obj, matching_indexes)\u001b[0m\n\u001b[1;32m    538\u001b[0m \u001b[38;5;28;01mdef\u001b[39;00m \u001b[38;5;21m_reindex_one\u001b[39m(\n\u001b[1;32m    539\u001b[0m     \u001b[38;5;28mself\u001b[39m,\n\u001b[1;32m    540\u001b[0m     obj: T_Alignable,\n\u001b[1;32m    541\u001b[0m     matching_indexes: \u001b[38;5;28mdict\u001b[39m[MatchingIndexKey, Index],\n\u001b[1;32m    542\u001b[0m ) \u001b[38;5;241m-\u001b[39m\u001b[38;5;241m>\u001b[39m T_Alignable:\n\u001b[1;32m    543\u001b[0m     new_indexes, new_variables \u001b[38;5;241m=\u001b[39m \u001b[38;5;28mself\u001b[39m\u001b[38;5;241m.\u001b[39m_get_indexes_and_vars(obj, matching_indexes)\n\u001b[0;32m--> 544\u001b[0m     dim_pos_indexers \u001b[38;5;241m=\u001b[39m \u001b[38;5;28;43mself\u001b[39;49m\u001b[38;5;241;43m.\u001b[39;49m\u001b[43m_get_dim_pos_indexers\u001b[49m\u001b[43m(\u001b[49m\u001b[43mmatching_indexes\u001b[49m\u001b[43m)\u001b[49m\n\u001b[1;32m    546\u001b[0m     \u001b[38;5;28;01mreturn\u001b[39;00m obj\u001b[38;5;241m.\u001b[39m_reindex_callback(\n\u001b[1;32m    547\u001b[0m         \u001b[38;5;28mself\u001b[39m,\n\u001b[1;32m    548\u001b[0m         dim_pos_indexers,\n\u001b[0;32m   (...)\u001b[0m\n\u001b[1;32m    553\u001b[0m         \u001b[38;5;28mself\u001b[39m\u001b[38;5;241m.\u001b[39mexclude_vars,\n\u001b[1;32m    554\u001b[0m     )\n",
      "File \u001b[0;32m/opt/conda/lib/python3.11/site-packages/xarray/core/alignment.py:510\u001b[0m, in \u001b[0;36mAligner._get_dim_pos_indexers\u001b[0;34m(self, matching_indexes)\u001b[0m\n\u001b[1;32m    508\u001b[0m     \u001b[38;5;28;01mif\u001b[39;00m obj_idx \u001b[38;5;129;01mis\u001b[39;00m \u001b[38;5;129;01mnot\u001b[39;00m \u001b[38;5;28;01mNone\u001b[39;00m:\n\u001b[1;32m    509\u001b[0m         \u001b[38;5;28;01mif\u001b[39;00m \u001b[38;5;28mself\u001b[39m\u001b[38;5;241m.\u001b[39mreindex[key]:\n\u001b[0;32m--> 510\u001b[0m             indexers \u001b[38;5;241m=\u001b[39m \u001b[43mobj_idx\u001b[49m\u001b[38;5;241;43m.\u001b[39;49m\u001b[43mreindex_like\u001b[49m\u001b[43m(\u001b[49m\u001b[43maligned_idx\u001b[49m\u001b[43m,\u001b[49m\u001b[43m \u001b[49m\u001b[38;5;241;43m*\u001b[39;49m\u001b[38;5;241;43m*\u001b[39;49m\u001b[38;5;28;43mself\u001b[39;49m\u001b[38;5;241;43m.\u001b[39;49m\u001b[43mreindex_kwargs\u001b[49m\u001b[43m)\u001b[49m\n\u001b[1;32m    511\u001b[0m             dim_pos_indexers\u001b[38;5;241m.\u001b[39mupdate(indexers)\n\u001b[1;32m    513\u001b[0m \u001b[38;5;28;01mreturn\u001b[39;00m dim_pos_indexers\n",
      "File \u001b[0;32m/opt/conda/lib/python3.11/site-packages/xarray/core/indexes.py:817\u001b[0m, in \u001b[0;36mPandasIndex.reindex_like\u001b[0;34m(self, other, method, tolerance)\u001b[0m\n\u001b[1;32m    813\u001b[0m \u001b[38;5;28;01mdef\u001b[39;00m \u001b[38;5;21mreindex_like\u001b[39m(\n\u001b[1;32m    814\u001b[0m     \u001b[38;5;28mself\u001b[39m, other: Self, method\u001b[38;5;241m=\u001b[39m\u001b[38;5;28;01mNone\u001b[39;00m, tolerance\u001b[38;5;241m=\u001b[39m\u001b[38;5;28;01mNone\u001b[39;00m\n\u001b[1;32m    815\u001b[0m ) \u001b[38;5;241m-\u001b[39m\u001b[38;5;241m>\u001b[39m \u001b[38;5;28mdict\u001b[39m[Hashable, Any]:\n\u001b[1;32m    816\u001b[0m     \u001b[38;5;28;01mif\u001b[39;00m \u001b[38;5;129;01mnot\u001b[39;00m \u001b[38;5;28mself\u001b[39m\u001b[38;5;241m.\u001b[39mindex\u001b[38;5;241m.\u001b[39mis_unique:\n\u001b[0;32m--> 817\u001b[0m         \u001b[38;5;28;01mraise\u001b[39;00m \u001b[38;5;167;01mValueError\u001b[39;00m(\n\u001b[1;32m    818\u001b[0m             \u001b[38;5;124mf\u001b[39m\u001b[38;5;124m\"\u001b[39m\u001b[38;5;124mcannot reindex or align along dimension \u001b[39m\u001b[38;5;132;01m{\u001b[39;00m\u001b[38;5;28mself\u001b[39m\u001b[38;5;241m.\u001b[39mdim\u001b[38;5;132;01m!r}\u001b[39;00m\u001b[38;5;124m because the \u001b[39m\u001b[38;5;124m\"\u001b[39m\n\u001b[1;32m    819\u001b[0m             \u001b[38;5;124m\"\u001b[39m\u001b[38;5;124m(pandas) index has duplicate values\u001b[39m\u001b[38;5;124m\"\u001b[39m\n\u001b[1;32m    820\u001b[0m         )\n\u001b[1;32m    822\u001b[0m     \u001b[38;5;28;01mreturn\u001b[39;00m {\u001b[38;5;28mself\u001b[39m\u001b[38;5;241m.\u001b[39mdim: get_indexer_nd(\u001b[38;5;28mself\u001b[39m\u001b[38;5;241m.\u001b[39mindex, other\u001b[38;5;241m.\u001b[39mindex, method, tolerance)}\n",
      "\u001b[0;31mValueError\u001b[0m: cannot reindex or align along dimension 'time' because the (pandas) index has duplicate values"
     ]
    }
   ],
   "source": [
    "# Define filenames\n",
    "cc_cn = \"cc_1990_cn.nc\"\n",
    "cc_ih = \"cc_1990_ih.nc\"\n",
    "\n",
    "# Open datasets\n",
    "ds1 = xr.open_dataset(cc_cn)\n",
    "ds2 = xr.open_dataset(cc_ih)\n",
    "\n",
    "# Merge datasets\n",
    "cc_merged = xr.combine_by_coords([ds1, ds2])\n",
    "\n",
    "print(cc_merged)"
   ]
  },
  {
   "cell_type": "markdown",
   "id": "7b62b2ef-2f27-49ab-81ad-32a45bd5d15a",
   "metadata": {},
   "source": [
    "# 1991 CC"
   ]
  },
  {
   "cell_type": "code",
   "execution_count": null,
   "id": "ff8b50bc-8e0b-4997-8020-0993874949b7",
   "metadata": {},
   "outputs": [],
   "source": [
    "file_pattern = '../private/complex_network_coefficients/1990-1999_run_20240122_1017/rasterfiles/Europe/1991/CN_Europe_0.25x0.25deg_CC_1991-*.nc'\n",
    "file_paths = glob.glob(file_pattern)\n",
    "\n",
    "# Open and concatenate files\n",
    "cc_1991 = xr.open_mfdataset(file_paths)\n",
    "\n",
    "# Rename coefficient\n",
    "cc_1991 = cc_1991.rename({'coefficient': 'CC'})\n",
    "\n",
    "# Save the merged data to a new NetCDF file\n",
    "cc_1991.to_netcdf(\"cc_1991.nc\")"
   ]
  },
  {
   "cell_type": "markdown",
   "id": "c60f0cdb-1797-4b87-932d-3997fb7aaad7",
   "metadata": {},
   "source": [
    "# BinSeg change point detection"
   ]
  },
  {
   "cell_type": "code",
   "execution_count": null,
   "id": "4f82016d-c5b9-4c2a-af27-0abba186ae5d",
   "metadata": {},
   "outputs": [],
   "source": [
    "data = nc.Dataset(file_path)\n",
    "print(data)"
   ]
  },
  {
   "cell_type": "code",
   "execution_count": 31,
   "id": "51fc5c2c-70b5-495e-a7a8-79154dcd17b6",
   "metadata": {},
   "outputs": [
    {
     "name": "stdout",
     "output_type": "stream",
     "text": [
      "<class 'netCDF4._netCDF4.Dataset'>\n",
      "root group (NETCDF4 data model, file format HDF5):\n",
      "    dimensions(sizes): lon(268), lat(141), time(95)\n",
      "    variables(dimensions): float32 lon(lon), float32 lat(lat), float64 time(time), float32 CC(time, lat, lon), int32 spatial_ref(time)\n",
      "    groups: \n"
     ]
    }
   ],
   "source": [
    "data = nc.Dataset('cc_1990.nc')\n",
    "CC = data['CC'][:]\n",
    "# CC = CC.reshape((time.size, -1))\n",
    "print(data)"
   ]
  },
  {
   "cell_type": "code",
   "execution_count": 26,
   "id": "c34e40b4-a2a6-4272-9901-983a3eb05071",
   "metadata": {},
   "outputs": [],
   "source": [
    "import numpy as np\n",
    "\n",
    "# Load closeness centrality data from your NetCDF file (replace with your code)\n",
    "data = CC  # Assuming data has shape (pixels, time steps)\n",
    "\n",
    "# Reshape the data to remove the pixel dimension (assuming time series analysis)\n",
    "# flattened_data = data.reshape(-1, data.shape[-1])\n",
    "\n",
    "# Alternative reshaping (if interested in all data points):\n",
    "flattened_data = data.flatten()  # Flattens all dimensions into a single array\n"
   ]
  },
  {
   "cell_type": "code",
   "execution_count": 27,
   "id": "a7e8ba5a-70b0-4f58-b297-86ba7cc5631b",
   "metadata": {},
   "outputs": [
    {
     "ename": "AttributeError",
     "evalue": "module 'ruptures' has no attribute 'BinSeg'",
     "output_type": "error",
     "traceback": [
      "\u001b[0;31m---------------------------------------------------------------------------\u001b[0m",
      "\u001b[0;31mAttributeError\u001b[0m                            Traceback (most recent call last)",
      "Cell \u001b[0;32mIn[27], line 31\u001b[0m\n\u001b[1;32m     27\u001b[0m   \u001b[38;5;28;01mreturn\u001b[39;00m change_points\n\u001b[1;32m     29\u001b[0m \u001b[38;5;66;03m# Example usage (replace 'your_netcdf_data' with your data loading)\u001b[39;00m\n\u001b[1;32m     30\u001b[0m \u001b[38;5;66;03m# data = your_netcdf_data[:, 0]  # Assuming data is in the first column\u001b[39;00m\n\u001b[0;32m---> 31\u001b[0m change_points \u001b[38;5;241m=\u001b[39m \u001b[43mbinseg_changepoints\u001b[49m\u001b[43m(\u001b[49m\u001b[43mflattened_data\u001b[49m\u001b[43m)\u001b[49m\n\u001b[1;32m     33\u001b[0m \u001b[38;5;28mprint\u001b[39m(\u001b[38;5;124m\"\u001b[39m\u001b[38;5;124mEstimated change points:\u001b[39m\u001b[38;5;124m\"\u001b[39m, change_points)\n",
      "Cell \u001b[0;32mIn[27], line 19\u001b[0m, in \u001b[0;36mbinseg_changepoints\u001b[0;34m(data)\u001b[0m\n\u001b[1;32m     16\u001b[0m model \u001b[38;5;241m=\u001b[39m \u001b[38;5;124m\"\u001b[39m\u001b[38;5;124ml2\u001b[39m\u001b[38;5;124m\"\u001b[39m\n\u001b[1;32m     18\u001b[0m \u001b[38;5;66;03m# Create BinSeg instance\u001b[39;00m\n\u001b[0;32m---> 19\u001b[0m algo \u001b[38;5;241m=\u001b[39m \u001b[43mrpt\u001b[49m\u001b[38;5;241;43m.\u001b[39;49m\u001b[43mBinSeg\u001b[49m(model\u001b[38;5;241m=\u001b[39mmodel)\n\u001b[1;32m     21\u001b[0m \u001b[38;5;66;03m# Fit the model to the data\u001b[39;00m\n\u001b[1;32m     22\u001b[0m algo\u001b[38;5;241m.\u001b[39mfit(data)\n",
      "\u001b[0;31mAttributeError\u001b[0m: module 'ruptures' has no attribute 'BinSeg'"
     ]
    }
   ],
   "source": [
    "import numpy as np\n",
    "import ruptures as rpt\n",
    "\n",
    "def binseg_changepoints(data):\n",
    "  \"\"\"\n",
    "  Detects change points in a time series using Binary Segmentation (BinSeg).\n",
    "\n",
    "  Args:\n",
    "      data: A 1D numpy array representing the time series data.\n",
    "\n",
    "  Returns:\n",
    "      A list of estimated change points (indices in the data array).\n",
    "  \"\"\"\n",
    "\n",
    "  # Define cost function (choose 'l2' for least squares, other options available)\n",
    "  model = \"l2\"\n",
    "\n",
    "  # Create BinSeg instance\n",
    "  algo = rpt.BinSeg(model=model)\n",
    "\n",
    "  # Fit the model to the data\n",
    "  algo.fit(data)\n",
    "\n",
    "  # Get estimated change points\n",
    "  change_points = algo.breakpoints\n",
    "\n",
    "  return change_points\n",
    "\n",
    "# Example usage (replace 'your_netcdf_data' with your data loading)\n",
    "# data = your_netcdf_data[:, 0]  # Assuming data is in the first column\n",
    "change_points = binseg_changepoints(flattened_data)\n",
    "\n",
    "print(\"Estimated change points:\", change_points)\n"
   ]
  },
  {
   "cell_type": "code",
   "execution_count": 32,
   "id": "8a90dea1-8b5e-40d2-88f7-ad55bccd7533",
   "metadata": {},
   "outputs": [],
   "source": [
    "import numpy as np\n",
    "import matplotlib.pylab as plt\n",
    "import ruptures as rpt\n",
    "import netCDF4 as nc"
   ]
  },
  {
   "cell_type": "code",
   "execution_count": 33,
   "id": "e2a5a159-a4f9-4517-a411-1976b64e1a20",
   "metadata": {},
   "outputs": [],
   "source": [
    "# Load your NetCDF file and variable\n",
    "dataset = nc.Dataset('cc_1990.nc')\n",
    "variable = dataset.variables['CC']\n",
    "\n",
    "# Reshape the variable to a 1D array\n",
    "flattened_array = variable[:].reshape(-1)  # or variable[:].ravel()\n",
    "\n",
    "# Now `flattened_array` contains your variable as a 1D array\n"
   ]
  },
  {
   "cell_type": "code",
   "execution_count": 61,
   "id": "fa6dd8f7-9641-42a2-b438-2b8438d6eb7f",
   "metadata": {},
   "outputs": [],
   "source": [
    "model = \"l2\"  # \"l1\", \"rbf\", \"linear\", \"normal\", \"ar\",...\n",
    "algo = rpt.Binseg(model=model, jump=100).fit(flattened_array)\n"
   ]
  },
  {
   "cell_type": "code",
   "execution_count": 62,
   "id": "52516323-197f-4323-8bad-f7e2ae9c368f",
   "metadata": {},
   "outputs": [
    {
     "ename": "KeyboardInterrupt",
     "evalue": "",
     "output_type": "error",
     "traceback": [
      "\u001b[0;31m---------------------------------------------------------------------------\u001b[0m",
      "\u001b[0;31mKeyboardInterrupt\u001b[0m                         Traceback (most recent call last)",
      "Cell \u001b[0;32mIn[62], line 5\u001b[0m\n\u001b[1;32m      3\u001b[0m sigma \u001b[38;5;241m=\u001b[39m \u001b[38;5;241m5\u001b[39m\n\u001b[1;32m      4\u001b[0m \u001b[38;5;66;03m# my_bkps = algo.predict(epsilon=3*n*sigma**2)\u001b[39;00m\n\u001b[0;32m----> 5\u001b[0m my_bkps \u001b[38;5;241m=\u001b[39m \u001b[43malgo\u001b[49m\u001b[38;5;241;43m.\u001b[39;49m\u001b[43mpredict\u001b[49m\u001b[43m(\u001b[49m\u001b[43mn_bkps\u001b[49m\u001b[38;5;241;43m=\u001b[39;49m\u001b[38;5;241;43m4\u001b[39;49m\u001b[43m)\u001b[49m\n\u001b[1;32m      7\u001b[0m \u001b[38;5;66;03m# # show results\u001b[39;00m\n\u001b[1;32m      8\u001b[0m \u001b[38;5;66;03m# rpt.show.display(signal, bkps, my_bkps, figsize=(10, 6))\u001b[39;00m\n\u001b[1;32m      9\u001b[0m \u001b[38;5;66;03m# plt.show()\u001b[39;00m\n",
      "File \u001b[0;32m/opt/conda/lib/python3.11/site-packages/ruptures/detection/binseg.py:155\u001b[0m, in \u001b[0;36mBinseg.predict\u001b[0;34m(self, n_bkps, pen, epsilon)\u001b[0m\n\u001b[1;32m    147\u001b[0m \u001b[38;5;28;01mif\u001b[39;00m \u001b[38;5;129;01mnot\u001b[39;00m sanity_check(\n\u001b[1;32m    148\u001b[0m     n_samples\u001b[38;5;241m=\u001b[39m\u001b[38;5;28mself\u001b[39m\u001b[38;5;241m.\u001b[39mcost\u001b[38;5;241m.\u001b[39msignal\u001b[38;5;241m.\u001b[39mshape[\u001b[38;5;241m0\u001b[39m],\n\u001b[1;32m    149\u001b[0m     n_bkps\u001b[38;5;241m=\u001b[39m\u001b[38;5;241m0\u001b[39m \u001b[38;5;28;01mif\u001b[39;00m n_bkps \u001b[38;5;129;01mis\u001b[39;00m \u001b[38;5;28;01mNone\u001b[39;00m \u001b[38;5;28;01melse\u001b[39;00m n_bkps,\n\u001b[1;32m    150\u001b[0m     jump\u001b[38;5;241m=\u001b[39m\u001b[38;5;28mself\u001b[39m\u001b[38;5;241m.\u001b[39mjump,\n\u001b[1;32m    151\u001b[0m     min_size\u001b[38;5;241m=\u001b[39m\u001b[38;5;28mself\u001b[39m\u001b[38;5;241m.\u001b[39mmin_size,\n\u001b[1;32m    152\u001b[0m ):\n\u001b[1;32m    153\u001b[0m     \u001b[38;5;28;01mraise\u001b[39;00m BadSegmentationParameters\n\u001b[0;32m--> 155\u001b[0m partition \u001b[38;5;241m=\u001b[39m \u001b[38;5;28;43mself\u001b[39;49m\u001b[38;5;241;43m.\u001b[39;49m\u001b[43m_seg\u001b[49m\u001b[43m(\u001b[49m\u001b[43mn_bkps\u001b[49m\u001b[38;5;241;43m=\u001b[39;49m\u001b[43mn_bkps\u001b[49m\u001b[43m,\u001b[49m\u001b[43m \u001b[49m\u001b[43mpen\u001b[49m\u001b[38;5;241;43m=\u001b[39;49m\u001b[43mpen\u001b[49m\u001b[43m,\u001b[49m\u001b[43m \u001b[49m\u001b[43mepsilon\u001b[49m\u001b[38;5;241;43m=\u001b[39;49m\u001b[43mepsilon\u001b[49m\u001b[43m)\u001b[49m\n\u001b[1;32m    156\u001b[0m bkps \u001b[38;5;241m=\u001b[39m \u001b[38;5;28msorted\u001b[39m(e \u001b[38;5;28;01mfor\u001b[39;00m s, e \u001b[38;5;129;01min\u001b[39;00m partition\u001b[38;5;241m.\u001b[39mkeys())\n\u001b[1;32m    157\u001b[0m \u001b[38;5;28;01mreturn\u001b[39;00m bkps\n",
      "File \u001b[0;32m/opt/conda/lib/python3.11/site-packages/ruptures/detection/binseg.py:54\u001b[0m, in \u001b[0;36mBinseg._seg\u001b[0;34m(self, n_bkps, pen, epsilon)\u001b[0m\n\u001b[1;32m     52\u001b[0m \u001b[38;5;28;01mwhile\u001b[39;00m \u001b[38;5;129;01mnot\u001b[39;00m stop:\n\u001b[1;32m     53\u001b[0m     stop \u001b[38;5;241m=\u001b[39m \u001b[38;5;28;01mTrue\u001b[39;00m\n\u001b[0;32m---> 54\u001b[0m     new_bkps \u001b[38;5;241m=\u001b[39m \u001b[43m[\u001b[49m\n\u001b[1;32m     55\u001b[0m \u001b[43m        \u001b[49m\u001b[38;5;28;43mself\u001b[39;49m\u001b[38;5;241;43m.\u001b[39;49m\u001b[43msingle_bkp\u001b[49m\u001b[43m(\u001b[49m\u001b[43mstart\u001b[49m\u001b[43m,\u001b[49m\u001b[43m \u001b[49m\u001b[43mend\u001b[49m\u001b[43m)\u001b[49m\u001b[43m \u001b[49m\u001b[38;5;28;43;01mfor\u001b[39;49;00m\u001b[43m \u001b[49m\u001b[43mstart\u001b[49m\u001b[43m,\u001b[49m\u001b[43m \u001b[49m\u001b[43mend\u001b[49m\u001b[43m \u001b[49m\u001b[38;5;129;43;01min\u001b[39;49;00m\u001b[43m \u001b[49m\u001b[43mpairwise\u001b[49m\u001b[43m(\u001b[49m\u001b[43m[\u001b[49m\u001b[38;5;241;43m0\u001b[39;49m\u001b[43m]\u001b[49m\u001b[43m \u001b[49m\u001b[38;5;241;43m+\u001b[39;49m\u001b[43m \u001b[49m\u001b[43mbkps\u001b[49m\u001b[43m)\u001b[49m\n\u001b[1;32m     56\u001b[0m \u001b[43m    \u001b[49m\u001b[43m]\u001b[49m\n\u001b[1;32m     57\u001b[0m     bkp, gain \u001b[38;5;241m=\u001b[39m \u001b[38;5;28mmax\u001b[39m(new_bkps, key\u001b[38;5;241m=\u001b[39m\u001b[38;5;28;01mlambda\u001b[39;00m x: x[\u001b[38;5;241m1\u001b[39m])\n\u001b[1;32m     59\u001b[0m     \u001b[38;5;28;01mif\u001b[39;00m bkp \u001b[38;5;129;01mis\u001b[39;00m \u001b[38;5;28;01mNone\u001b[39;00m:  \u001b[38;5;66;03m# all possible configuration have been explored.\u001b[39;00m\n",
      "File \u001b[0;32m/opt/conda/lib/python3.11/site-packages/ruptures/detection/binseg.py:55\u001b[0m, in \u001b[0;36m<listcomp>\u001b[0;34m(.0)\u001b[0m\n\u001b[1;32m     52\u001b[0m \u001b[38;5;28;01mwhile\u001b[39;00m \u001b[38;5;129;01mnot\u001b[39;00m stop:\n\u001b[1;32m     53\u001b[0m     stop \u001b[38;5;241m=\u001b[39m \u001b[38;5;28;01mTrue\u001b[39;00m\n\u001b[1;32m     54\u001b[0m     new_bkps \u001b[38;5;241m=\u001b[39m [\n\u001b[0;32m---> 55\u001b[0m         \u001b[38;5;28;43mself\u001b[39;49m\u001b[38;5;241;43m.\u001b[39;49m\u001b[43msingle_bkp\u001b[49m\u001b[43m(\u001b[49m\u001b[43mstart\u001b[49m\u001b[43m,\u001b[49m\u001b[43m \u001b[49m\u001b[43mend\u001b[49m\u001b[43m)\u001b[49m \u001b[38;5;28;01mfor\u001b[39;00m start, end \u001b[38;5;129;01min\u001b[39;00m pairwise([\u001b[38;5;241m0\u001b[39m] \u001b[38;5;241m+\u001b[39m bkps)\n\u001b[1;32m     56\u001b[0m     ]\n\u001b[1;32m     57\u001b[0m     bkp, gain \u001b[38;5;241m=\u001b[39m \u001b[38;5;28mmax\u001b[39m(new_bkps, key\u001b[38;5;241m=\u001b[39m\u001b[38;5;28;01mlambda\u001b[39;00m x: x[\u001b[38;5;241m1\u001b[39m])\n\u001b[1;32m     59\u001b[0m     \u001b[38;5;28;01mif\u001b[39;00m bkp \u001b[38;5;129;01mis\u001b[39;00m \u001b[38;5;28;01mNone\u001b[39;00m:  \u001b[38;5;66;03m# all possible configuration have been explored.\u001b[39;00m\n",
      "File \u001b[0;32m/opt/conda/lib/python3.11/site-packages/ruptures/detection/binseg.py:93\u001b[0m, in \u001b[0;36mBinseg.single_bkp\u001b[0;34m(self, start, end)\u001b[0m\n\u001b[1;32m     89\u001b[0m \u001b[38;5;28;01mfor\u001b[39;00m bkp \u001b[38;5;129;01min\u001b[39;00m \u001b[38;5;28mrange\u001b[39m(start, end, \u001b[38;5;28mself\u001b[39m\u001b[38;5;241m.\u001b[39mjump):\n\u001b[1;32m     90\u001b[0m     \u001b[38;5;28;01mif\u001b[39;00m bkp \u001b[38;5;241m-\u001b[39m start \u001b[38;5;241m>\u001b[39m\u001b[38;5;241m=\u001b[39m \u001b[38;5;28mself\u001b[39m\u001b[38;5;241m.\u001b[39mmin_size \u001b[38;5;129;01mand\u001b[39;00m end \u001b[38;5;241m-\u001b[39m bkp \u001b[38;5;241m>\u001b[39m\u001b[38;5;241m=\u001b[39m \u001b[38;5;28mself\u001b[39m\u001b[38;5;241m.\u001b[39mmin_size:\n\u001b[1;32m     91\u001b[0m         gain \u001b[38;5;241m=\u001b[39m (\n\u001b[1;32m     92\u001b[0m             segment_cost\n\u001b[0;32m---> 93\u001b[0m             \u001b[38;5;241m-\u001b[39m \u001b[38;5;28;43mself\u001b[39;49m\u001b[38;5;241;43m.\u001b[39;49m\u001b[43mcost\u001b[49m\u001b[38;5;241;43m.\u001b[39;49m\u001b[43merror\u001b[49m\u001b[43m(\u001b[49m\u001b[43mstart\u001b[49m\u001b[43m,\u001b[49m\u001b[43m \u001b[49m\u001b[43mbkp\u001b[49m\u001b[43m)\u001b[49m\n\u001b[1;32m     94\u001b[0m             \u001b[38;5;241m-\u001b[39m \u001b[38;5;28mself\u001b[39m\u001b[38;5;241m.\u001b[39mcost\u001b[38;5;241m.\u001b[39merror(bkp, end)\n\u001b[1;32m     95\u001b[0m         )\n\u001b[1;32m     96\u001b[0m         gain_list\u001b[38;5;241m.\u001b[39mappend((gain, bkp))\n\u001b[1;32m     97\u001b[0m \u001b[38;5;28;01mtry\u001b[39;00m:\n",
      "File \u001b[0;32m/opt/conda/lib/python3.11/site-packages/ruptures/costs/costl2.py:49\u001b[0m, in \u001b[0;36mCostL2.error\u001b[0;34m(self, start, end)\u001b[0m\n\u001b[1;32m     46\u001b[0m \u001b[38;5;28;01mif\u001b[39;00m end \u001b[38;5;241m-\u001b[39m start \u001b[38;5;241m<\u001b[39m \u001b[38;5;28mself\u001b[39m\u001b[38;5;241m.\u001b[39mmin_size:\n\u001b[1;32m     47\u001b[0m     \u001b[38;5;28;01mraise\u001b[39;00m NotEnoughPoints\n\u001b[0;32m---> 49\u001b[0m \u001b[38;5;28;01mreturn\u001b[39;00m \u001b[38;5;28;43mself\u001b[39;49m\u001b[38;5;241;43m.\u001b[39;49m\u001b[43msignal\u001b[49m\u001b[43m[\u001b[49m\u001b[43mstart\u001b[49m\u001b[43m:\u001b[49m\u001b[43mend\u001b[49m\u001b[43m]\u001b[49m\u001b[38;5;241;43m.\u001b[39;49m\u001b[43mvar\u001b[49m\u001b[43m(\u001b[49m\u001b[43maxis\u001b[49m\u001b[38;5;241;43m=\u001b[39;49m\u001b[38;5;241;43m0\u001b[39;49m\u001b[43m)\u001b[49m\u001b[38;5;241m.\u001b[39msum() \u001b[38;5;241m*\u001b[39m (end \u001b[38;5;241m-\u001b[39m start)\n",
      "File \u001b[0;32m/opt/conda/lib/python3.11/site-packages/numpy/ma/core.py:5427\u001b[0m, in \u001b[0;36mMaskedArray.var\u001b[0;34m(self, axis, dtype, out, ddof, keepdims)\u001b[0m\n\u001b[1;32m   5425\u001b[0m \u001b[38;5;66;03m# Some data are masked, yay!\u001b[39;00m\n\u001b[1;32m   5426\u001b[0m cnt \u001b[38;5;241m=\u001b[39m \u001b[38;5;28mself\u001b[39m\u001b[38;5;241m.\u001b[39mcount(axis\u001b[38;5;241m=\u001b[39maxis, \u001b[38;5;241m*\u001b[39m\u001b[38;5;241m*\u001b[39mkwargs) \u001b[38;5;241m-\u001b[39m ddof\n\u001b[0;32m-> 5427\u001b[0m danom \u001b[38;5;241m=\u001b[39m \u001b[38;5;28;43mself\u001b[39;49m\u001b[43m \u001b[49m\u001b[38;5;241;43m-\u001b[39;49m\u001b[43m \u001b[49m\u001b[38;5;28;43mself\u001b[39;49m\u001b[38;5;241;43m.\u001b[39;49m\u001b[43mmean\u001b[49m\u001b[43m(\u001b[49m\u001b[43maxis\u001b[49m\u001b[43m,\u001b[49m\u001b[43m \u001b[49m\u001b[43mdtype\u001b[49m\u001b[43m,\u001b[49m\u001b[43m \u001b[49m\u001b[43mkeepdims\u001b[49m\u001b[38;5;241;43m=\u001b[39;49m\u001b[38;5;28;43;01mTrue\u001b[39;49;00m\u001b[43m)\u001b[49m\n\u001b[1;32m   5428\u001b[0m \u001b[38;5;28;01mif\u001b[39;00m iscomplexobj(\u001b[38;5;28mself\u001b[39m):\n\u001b[1;32m   5429\u001b[0m     danom \u001b[38;5;241m=\u001b[39m umath\u001b[38;5;241m.\u001b[39mabsolute(danom) \u001b[38;5;241m*\u001b[39m\u001b[38;5;241m*\u001b[39m \u001b[38;5;241m2\u001b[39m\n",
      "File \u001b[0;32m/opt/conda/lib/python3.11/site-packages/numpy/ma/core.py:4235\u001b[0m, in \u001b[0;36mMaskedArray.__sub__\u001b[0;34m(self, other)\u001b[0m\n\u001b[1;32m   4233\u001b[0m \u001b[38;5;28;01mif\u001b[39;00m \u001b[38;5;28mself\u001b[39m\u001b[38;5;241m.\u001b[39m_delegate_binop(other):\n\u001b[1;32m   4234\u001b[0m     \u001b[38;5;28;01mreturn\u001b[39;00m \u001b[38;5;28mNotImplemented\u001b[39m\n\u001b[0;32m-> 4235\u001b[0m \u001b[38;5;28;01mreturn\u001b[39;00m \u001b[43msubtract\u001b[49m\u001b[43m(\u001b[49m\u001b[38;5;28;43mself\u001b[39;49m\u001b[43m,\u001b[49m\u001b[43m \u001b[49m\u001b[43mother\u001b[49m\u001b[43m)\u001b[49m\n",
      "File \u001b[0;32m/opt/conda/lib/python3.11/site-packages/numpy/ma/core.py:1031\u001b[0m, in \u001b[0;36m_MaskedBinaryOperation.__call__\u001b[0;34m(self, a, b, *args, **kwargs)\u001b[0m\n\u001b[1;32m   1029\u001b[0m     m \u001b[38;5;241m=\u001b[39m umath\u001b[38;5;241m.\u001b[39mlogical_or(ma, getmaskarray(b))\n\u001b[1;32m   1030\u001b[0m \u001b[38;5;28;01melse\u001b[39;00m:\n\u001b[0;32m-> 1031\u001b[0m     m \u001b[38;5;241m=\u001b[39m \u001b[43mumath\u001b[49m\u001b[38;5;241;43m.\u001b[39;49m\u001b[43mlogical_or\u001b[49m\u001b[43m(\u001b[49m\u001b[43mma\u001b[49m\u001b[43m,\u001b[49m\u001b[43m \u001b[49m\u001b[43mmb\u001b[49m\u001b[43m)\u001b[49m\n\u001b[1;32m   1033\u001b[0m \u001b[38;5;66;03m# Case 1. : scalar\u001b[39;00m\n\u001b[1;32m   1034\u001b[0m \u001b[38;5;28;01mif\u001b[39;00m \u001b[38;5;129;01mnot\u001b[39;00m result\u001b[38;5;241m.\u001b[39mndim:\n",
      "\u001b[0;31mKeyboardInterrupt\u001b[0m: "
     ]
    }
   ],
   "source": [
    "# my_bkps = algo.predict(n_bkps=3)\n",
    "n = len(flattened_array)\n",
    "sigma = 5\n",
    "# my_bkps = algo.predict(epsilon=3*n*sigma**2)\n",
    "my_bkps = algo.predict(n_bkps=4)\n",
    "\n",
    "# # show results\n",
    "# rpt.show.display(signal, bkps, my_bkps, figsize=(10, 6))\n",
    "# plt.show()"
   ]
  },
  {
   "cell_type": "code",
   "execution_count": null,
   "id": "f6a2aa94-9414-49e9-9ba1-a3d66350d195",
   "metadata": {},
   "outputs": [],
   "source": [
    "print(my_bkps)"
   ]
  },
  {
   "cell_type": "code",
   "execution_count": 48,
   "id": "e77f53c9-36c5-43dd-9682-285c565ef927",
   "metadata": {},
   "outputs": [
    {
     "data": {
      "text/plain": [
       "3589860"
      ]
     },
     "execution_count": 48,
     "metadata": {},
     "output_type": "execute_result"
    }
   ],
   "source": [
    "len(flattened_array)"
   ]
  },
  {
   "cell_type": "code",
   "execution_count": null,
   "id": "d1a772c2-978e-4ca3-b976-ea02621965cc",
   "metadata": {},
   "outputs": [],
   "source": [
    "algo = rpt.BottomUp(model=\"l2\").fit(signal)\n",
    "my_bkps = algo.predict(n_bkps=3)"
   ]
  }
 ],
 "metadata": {
  "kernelspec": {
   "display_name": "Python 3 (ipykernel)",
   "language": "python",
   "name": "python3"
  },
  "language_info": {
   "codemirror_mode": {
    "name": "ipython",
    "version": 3
   },
   "file_extension": ".py",
   "mimetype": "text/x-python",
   "name": "python",
   "nbconvert_exporter": "python",
   "pygments_lexer": "ipython3",
   "version": "3.11.8"
  }
 },
 "nbformat": 4,
 "nbformat_minor": 5
}
