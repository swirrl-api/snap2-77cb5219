{
 "cells": [
  {
   "cell_type": "code",
   "execution_count": 7,
   "id": "0a81e036-b3b5-4d3f-bdf0-db1d432be799",
   "metadata": {},
   "outputs": [
    {
     "ename": "IndexError",
     "evalue": "\nBoolean array must have the same shape as the data along this dimension.",
     "output_type": "error",
     "traceback": [
      "\u001b[0;31m---------------------------------------------------------------------------\u001b[0m",
      "\u001b[0;31mIndexError\u001b[0m                                Traceback (most recent call last)",
      "Cell \u001b[0;32mIn[7], line 31\u001b[0m\n\u001b[1;32m     28\u001b[0m significant_trends \u001b[38;5;241m=\u001b[39m p_values \u001b[38;5;241m<\u001b[39m alpha\n\u001b[1;32m     30\u001b[0m \u001b[38;5;66;03m# Separate pixels with positive or negative trends (potential sources/sinks)\u001b[39;00m\n\u001b[0;32m---> 31\u001b[0m positive_trends \u001b[38;5;241m=\u001b[39m \u001b[43mcloseness_centrality\u001b[49m\u001b[43m[\u001b[49m\u001b[43msignificant_trends\u001b[49m\u001b[43m \u001b[49m\u001b[38;5;241;43m&\u001b[39;49m\u001b[43m \u001b[49m\u001b[43m(\u001b[49m\u001b[43mp_values\u001b[49m\u001b[43m \u001b[49m\u001b[38;5;241;43m<\u001b[39;49m\u001b[43m \u001b[49m\u001b[43malpha\u001b[49m\u001b[38;5;241;43m/\u001b[39;49m\u001b[38;5;241;43m2\u001b[39;49m\u001b[43m)\u001b[49m\u001b[43m]\u001b[49m  \u001b[38;5;66;03m# Adjust for two-tailed test\u001b[39;00m\n\u001b[1;32m     32\u001b[0m negative_trends \u001b[38;5;241m=\u001b[39m closeness_centrality[significant_trends \u001b[38;5;241m&\u001b[39m (p_values \u001b[38;5;241m>\u001b[39m \u001b[38;5;241m1\u001b[39m\u001b[38;5;241m-\u001b[39malpha\u001b[38;5;241m/\u001b[39m\u001b[38;5;241m2\u001b[39m)]\n\u001b[1;32m     34\u001b[0m \u001b[38;5;66;03m# Extract corresponding latitudes and longitudes\u001b[39;00m\n",
      "File \u001b[0;32msrc/netCDF4/_netCDF4.pyx:4948\u001b[0m, in \u001b[0;36mnetCDF4._netCDF4.Variable.__getitem__\u001b[0;34m()\u001b[0m\n",
      "File \u001b[0;32m/opt/conda/lib/python3.11/site-packages/netCDF4/utils.py:243\u001b[0m, in \u001b[0;36m_StartCountStride\u001b[0;34m(elem, shape, dimensions, grp, datashape, put, use_get_vars)\u001b[0m\n\u001b[1;32m    240\u001b[0m             \u001b[38;5;28;01mif\u001b[39;00m \u001b[38;5;129;01mnot\u001b[39;00m unlim \u001b[38;5;129;01mand\u001b[39;00m shape[i] \u001b[38;5;241m!=\u001b[39m \u001b[38;5;28mlen\u001b[39m(ea):\n\u001b[1;32m    241\u001b[0m                 msg\u001b[38;5;241m=\u001b[39m\u001b[38;5;124m\"\"\"\u001b[39m\n\u001b[1;32m    242\u001b[0m \u001b[38;5;124mBoolean array must have the same shape as the data along this dimension.\u001b[39m\u001b[38;5;124m\"\"\"\u001b[39m\n\u001b[0;32m--> 243\u001b[0m                 \u001b[38;5;28;01mraise\u001b[39;00m \u001b[38;5;167;01mIndexError\u001b[39;00m(msg)\n\u001b[1;32m    244\u001b[0m             ea \u001b[38;5;241m=\u001b[39m np\u001b[38;5;241m.\u001b[39mflatnonzero(ea)\n\u001b[1;32m    245\u001b[0m         \u001b[38;5;66;03m# an iterable (non-scalar) integer array.\u001b[39;00m\n",
      "\u001b[0;31mIndexError\u001b[0m: \nBoolean array must have the same shape as the data along this dimension."
     ]
    }
   ],
   "source": [
    "import numpy as np\n",
    "from scipy.stats import kendalltau\n",
    "import netCDF4 as nc\n",
    "\n",
    "# Load data and extract closeness centrality, latitude, longitude\n",
    "data = nc.Dataset('../private/complex_network_coefficients/2000-2009_run_20240105_1808/rasterfiles/Europe/2003/CN_Europe_0.25x0.25deg_CC_2003-06-01_2003-07-01.nc')\n",
    "closeness_centrality = data['coefficient']\n",
    "latitude = data['lat']\n",
    "longitude = data['lon']\n",
    "time = data['time']\n",
    "\n",
    "# Apply Mann-Kendall test on each pixel's time series (closeness centrality)\n",
    "# p_values = np.empty_like(closeness_centrality[:, 0])\n",
    "# for i in range(closeness_centrality.shape[0]):\n",
    "#   _, p_values[i] = kendalltau(closeness_centrality[i, :], time)\n",
    "\n",
    "\n",
    "# Example: Comparing pixel at index 10 with pixel at index 50\n",
    "pixel1_data = closeness_centrality[10, :]\n",
    "pixel2_data = closeness_centrality[20, :]\n",
    "\n",
    "# Ensure they have the same size (assuming same time steps)\n",
    "_, p_value = kendalltau(pixel1_data, pixel2_data)\n",
    "\n",
    "\n",
    "# Set a significance level (alpha) for trend identification (e.g., alpha = 0.05)\n",
    "alpha = 0.05\n",
    "significant_trends = p_values < alpha\n",
    "\n",
    "# Separate pixels with positive or negative trends (potential sources/sinks)\n",
    "positive_trends = closeness_centrality[significant_trends & (p_values < alpha/2)]  # Adjust for two-tailed test\n",
    "negative_trends = closeness_centrality[significant_trends & (p_values > 1-alpha/2)]\n",
    "\n",
    "# Extract corresponding latitudes and longitudes\n",
    "positive_latitudes = latitude[significant_trends & (p_values < alpha/2)]\n",
    "positive_longitudes = longitude[significant_trends & (p_values < alpha/2)]\n",
    "negative_latitudes = latitude[significant_trends & (p_values > 1-alpha/2)]\n",
    "negative_longitudes = longitude[significant_trends & (p_values > 1-alpha/2)]\n",
    "\n",
    "\n"
   ]
  },
  {
   "cell_type": "code",
   "execution_count": 8,
   "id": "be6f0441-39f9-4e3d-aecb-50eebcc0606d",
   "metadata": {},
   "outputs": [],
   "source": [
    "import numpy as np\n",
    "import matplotlib.pylab as plt\n",
    "import ruptures as rpt\n",
    "import netCDF4 as nc"
   ]
  },
  {
   "cell_type": "code",
   "execution_count": 9,
   "id": "43413bb2-91ef-44ef-9726-cae79dc4107b",
   "metadata": {},
   "outputs": [],
   "source": [
    "# Load your NetCDF file and variable\n",
    "# dataset = nc.Dataset('cc_1990.nc')\n",
    "# variable = dataset.variables['CC']\n",
    "\n",
    "data = nc.Dataset('../private/complex_network_coefficients/2000-2009_run_20240105_1808/rasterfiles/Europe/2003/CN_Europe_0.25x0.25deg_CC_2003-06-01_2003-07-01.nc')\n",
    "variable = data['coefficient']\n",
    "\n",
    "# Reshape the variable to a 1D array\n",
    "flattened_array = variable[:].reshape(-1)  # or variable[:].ravel()\n",
    "\n",
    "# Now `flattened_array` contains your variable as a 1D array"
   ]
  },
  {
   "cell_type": "code",
   "execution_count": 10,
   "id": "f893da96-bd49-4882-99f0-0a66b8d54c34",
   "metadata": {},
   "outputs": [],
   "source": [
    "algo = rpt.BottomUp(model=\"l2\").fit(flattened_array)\n",
    "my_bkps = algo.predict(n_bkps=3)"
   ]
  },
  {
   "cell_type": "code",
   "execution_count": 11,
   "id": "b5c825b6-8bb5-4789-94ce-40b047d6d6ab",
   "metadata": {},
   "outputs": [
    {
     "name": "stdout",
     "output_type": "stream",
     "text": [
      "[422440, 430860, 468115, 1171428]\n"
     ]
    }
   ],
   "source": [
    "print(my_bkps)"
   ]
  },
  {
   "cell_type": "code",
   "execution_count": 22,
   "id": "d5edfd37-7aec-44de-8307-d4b30f7ae38d",
   "metadata": {},
   "outputs": [
    {
     "name": "stdout",
     "output_type": "stream",
     "text": [
      "0.0\n"
     ]
    }
   ],
   "source": [
    "print(flattened_array[422439])"
   ]
  }
 ],
 "metadata": {
  "kernelspec": {
   "display_name": "Python 3 (ipykernel)",
   "language": "python",
   "name": "python3"
  },
  "language_info": {
   "codemirror_mode": {
    "name": "ipython",
    "version": 3
   },
   "file_extension": ".py",
   "mimetype": "text/x-python",
   "name": "python",
   "nbconvert_exporter": "python",
   "pygments_lexer": "ipython3",
   "version": "3.11.8"
  }
 },
 "nbformat": 4,
 "nbformat_minor": 5
}
